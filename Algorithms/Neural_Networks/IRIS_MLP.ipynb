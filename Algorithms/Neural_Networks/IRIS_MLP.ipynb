{
  "nbformat": 4,
  "nbformat_minor": 0,
  "metadata": {
    "colab": {
      "name": "IRIS_MLP.ipynb",
      "provenance": []
    },
    "kernelspec": {
      "name": "python3",
      "display_name": "Python 3"
    },
    "accelerator": "GPU"
  },
  "cells": [
    {
      "cell_type": "code",
      "metadata": {
        "id": "kYHPqbKclXZF"
      },
      "source": [
        "import pandas as pd\n",
        "from sklearn.model_selection import train_test_split\n",
        "from sklearn.metrics import accuracy_score, precision_score, recall_score\n",
        "import pandas as pd\n",
        "import torch\n",
        "import torch.nn as nn\n",
        "import torch.nn.functional as F\n",
        "from torch.autograd import Variable"
      ],
      "execution_count": 1,
      "outputs": []
    },
    {
      "cell_type": "code",
      "metadata": {
        "id": "wjZDRKUGmoT4"
      },
      "source": [
        "# load IRIS dataset\n",
        "dataset = pd.read_csv('https://gist.githubusercontent.com/curran/a08a1080b88344b0c8a7/raw/0e7a9b0a5d22642a06d3d5b9bcbad9890c8ee534/iris.csv')\n",
        "\n",
        "# transform species to numerics\n",
        "dataset.loc[dataset.species=='setosa', 'species'] = 0\n",
        "dataset.loc[dataset.species=='versicolor', 'species'] = 1\n",
        "dataset.loc[dataset.species=='virginica', 'species'] = 2\n",
        "\n",
        "X = dataset.drop(columns=['species'])\n",
        "y = dataset.species.astype('int')\n",
        "\n",
        "train_X, test_X, train_y, test_y = train_test_split(X, y, test_size=0.2)\n",
        "\n",
        "# wrap up with Variable in pytorch\n",
        "train_X = Variable(torch.Tensor(train_X.values).float())\n",
        "test_X = Variable(torch.Tensor(test_X.values).float())\n",
        "train_y = torch.Tensor(train_y.values)\n",
        "test_y = torch.Tensor(test_y.values)\n"
      ],
      "execution_count": 2,
      "outputs": []
    },
    {
      "cell_type": "code",
      "metadata": {
        "id": "uDCXE8TanoSg",
        "outputId": "3d1a36a3-9f86-4144-d447-e9c2478f1de1",
        "colab": {
          "base_uri": "https://localhost:8080/",
          "height": 219
        }
      },
      "source": [
        "\n",
        "class Net(nn.Module):\n",
        "    # define nn\n",
        "    def __init__(self):\n",
        "        super(Net, self).__init__()\n",
        "        self.fc1 = nn.Linear(4, 100)\n",
        "        self.fc2 = nn.Linear(100, 100)\n",
        "        self.fc3 = nn.Linear(100, 3)\n",
        "        self.softmax = nn.Softmax(dim=1)\n",
        "\n",
        "    def forward(self, X):\n",
        "        X = F.relu(self.fc1(X))\n",
        "        X = self.fc2(X)\n",
        "        X = self.fc3(X)\n",
        "        X = self.softmax(X)\n",
        "\n",
        "        return X\n",
        "    \n",
        "\n",
        "\n",
        "net = Net()\n",
        "\n",
        "criterion = nn.CrossEntropyLoss()# cross entropy loss\n",
        "\n",
        "optimizer = torch.optim.SGD(net.parameters(), lr=0.05)\n",
        "\n",
        "for epoch in range(1000):\n",
        "    optimizer.zero_grad()\n",
        "    out = net(train_X)\n",
        "    loss = criterion(out, train_y.long())\n",
        "    loss.backward()\n",
        "    optimizer.step()\n",
        "    \n",
        "    if epoch % 100 == 0:\n",
        "        print('number of epoch', epoch, 'loss', loss.data.item())\n",
        "\n",
        "predict_out = net(test_X)\n",
        "_, predict_y = torch.max(predict_out, 1)\n",
        "\n",
        "print('prediction accuracy', accuracy_score(test_y.data, predict_y.data))\n",
        "\n"
      ],
      "execution_count": 6,
      "outputs": [
        {
          "output_type": "stream",
          "text": [
            "number of epoch 0 loss 1.1339986324310303\n",
            "number of epoch 100 loss 0.7269532084465027\n",
            "number of epoch 200 loss 0.6533516049385071\n",
            "number of epoch 300 loss 0.6110961437225342\n",
            "number of epoch 400 loss 0.5997253656387329\n",
            "number of epoch 500 loss 0.5941113233566284\n",
            "number of epoch 600 loss 0.5904865264892578\n",
            "number of epoch 700 loss 0.5879192352294922\n",
            "number of epoch 800 loss 0.5859654545783997\n",
            "number of epoch 900 loss 0.5843396782875061\n",
            "prediction accuracy 1.0\n"
          ],
          "name": "stdout"
        }
      ]
    },
    {
      "cell_type": "code",
      "metadata": {
        "id": "IE4SbG9TNyVO",
        "outputId": "6cd3552d-4a07-4a07-dcfa-a95743af5ee9",
        "colab": {
          "base_uri": "https://localhost:8080/",
          "height": 90
        }
      },
      "source": [
        "print('macro precision', precision_score(test_y.data, predict_y.data, average='macro'))\n",
        "print('micro precision', precision_score(test_y.data, predict_y.data, average='micro'))\n",
        "print('macro recall', recall_score(test_y.data, predict_y.data, average='macro'))\n",
        "print('micro recall', recall_score(test_y.data, predict_y.data, average='micro'))"
      ],
      "execution_count": 7,
      "outputs": [
        {
          "output_type": "stream",
          "text": [
            "macro precision 1.0\n",
            "micro precision 1.0\n",
            "macro recall 1.0\n",
            "micro recall 1.0\n"
          ],
          "name": "stdout"
        }
      ]
    }
  ]
}