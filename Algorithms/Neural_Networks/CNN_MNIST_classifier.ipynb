{
  "nbformat": 4,
  "nbformat_minor": 0,
  "metadata": {
    "colab": {
      "name": "MNIST_classifier.ipynb",
      "version": "0.3.2",
      "provenance": [],
      "collapsed_sections": []
    },
    "kernelspec": {
      "name": "python3",
      "display_name": "Python 3"
    },
    "accelerator": "GPU"
  },
  "cells": [
    {
      "cell_type": "markdown",
      "metadata": {
        "id": "YFZf4rRndxCd",
        "colab_type": "text"
      },
      "source": [
        "# Download libraries"
      ]
    },
    {
      "cell_type": "code",
      "metadata": {
        "id": "4HbhamdMd5AR",
        "colab_type": "code",
        "colab": {}
      },
      "source": [
        "import torch\n",
        "import torchvision \n",
        "\n",
        "import torch.nn as nn\n",
        "import torch.nn.functional as F\n",
        "import torch.optim as optim"
      ],
      "execution_count": 0,
      "outputs": []
    },
    {
      "cell_type": "markdown",
      "metadata": {
        "id": "1xN7r3JjdqqC",
        "colab_type": "text"
      },
      "source": [
        "# Download and prepare data"
      ]
    },
    {
      "cell_type": "code",
      "metadata": {
        "id": "LBqmnelYgSmR",
        "colab_type": "code",
        "outputId": "b2f20e97-f6ef-4066-cbff-2f9f875341ad",
        "colab": {
          "base_uri": "https://localhost:8080/",
          "height": 34
        }
      },
      "source": [
        "n_epochs = 3\n",
        "batch_size_train = 64\n",
        "batch_size_test = 1000\n",
        "\n",
        "learning_rate = 0.01\n",
        "momentum = 0.5\n",
        "log_interval = 10\n",
        "\n",
        "random_seed = 1\n",
        "\n",
        "torch.backends.cudnn.enabled = False # Why false \n",
        "torch.manual_seed(random_seed) # Why 1"
      ],
      "execution_count": 3,
      "outputs": [
        {
          "output_type": "execute_result",
          "data": {
            "text/plain": [
              "<torch._C.Generator at 0x7fd0efe3bab0>"
            ]
          },
          "metadata": {
            "tags": []
          },
          "execution_count": 3
        }
      ]
    },
    {
      "cell_type": "markdown",
      "metadata": {
        "id": "NXQRB-Gzg-B7",
        "colab_type": "text"
      },
      "source": [
        "# What it does?\n",
        "## Torch.backends.cudnn\n",
        "It enables benchmark mode in cudnn. Benchmark mode is good whenever your input sizes for your network do not vary. This way, cudnn will look for the optimal set of algorithms for that particular configuration (which takes some time). \n",
        "This usually leads to faster runtime. It's also worth mentioning that cuDNN uses nondeterministic algorithms which can be disabled setting torch.backends.cudnn.enabled = False.\n",
        "But if your input sizes changes at each iteration, then cudnn will benchmark every time a new size appears, possibly leading to worse runtime performances.\n",
        "## torch.manual_seed\n",
        "Sets the seed for generating random numbers. "
      ]
    },
    {
      "cell_type": "code",
      "metadata": {
        "id": "m-GUERMedleD",
        "colab_type": "code",
        "colab": {}
      },
      "source": [
        "train_loader = torch.utils.data.DataLoader(\n",
        "  torchvision.datasets.MNIST('/files/', train=True, download=True,transform=torchvision.transforms.Compose([torchvision.transforms.ToTensor(),torchvision.transforms.Normalize((0.1307,), (0.3081,))])),\n",
        "                             batch_size=batch_size_train, \n",
        "                             shuffle=True)\n",
        "\n",
        "test_loader = torch.utils.data.DataLoader(\n",
        "  torchvision.datasets.MNIST('/files/', train=False, download=True,transform=torchvision.transforms.Compose([torchvision.transforms.ToTensor(),torchvision.transforms.Normalize((0.1307,), (0.3081,))])),\n",
        "                             batch_size=batch_size_test, \n",
        "                             shuffle=True)"
      ],
      "execution_count": 0,
      "outputs": []
    },
    {
      "cell_type": "markdown",
      "metadata": {
        "id": "RHFQjiPLdpW3",
        "colab_type": "text"
      },
      "source": [
        "The values 0.1307 and 0.3081 used for the Normalize() transformation below are the global mean and standard deviation of the MNIST dataset, we'll take them as a given here.\n"
      ]
    },
    {
      "cell_type": "code",
      "metadata": {
        "id": "Io9YNUJWqS6q",
        "colab_type": "code",
        "colab": {}
      },
      "source": [
        "examples = enumerate(test_loader)\n",
        "batch_idx, (example_data, example_targets) = next(examples)"
      ],
      "execution_count": 0,
      "outputs": []
    },
    {
      "cell_type": "markdown",
      "metadata": {
        "id": "vTUY_JC9q4xM",
        "colab_type": "text"
      },
      "source": [
        "# What it does?\n",
        "## Enumerate()\n",
        "It adds a counter to an iterable and returns it in a form of enumerate object. This enumerate object can then be used directly in for loops or be converted into a list of tuples using list() method.\n",
        "**Ex:**\n",
        "s1 = \"geek\"\n",
        "print list(enumerate(s1,2)) \n",
        "//changing start index to 2 from 0 \n",
        "print list(enumerate(s1,2)) \n",
        "\n",
        "Output:\n",
        "[(0, 'g'), (1, 'e'), (2, 'e'), (3, 'k')]\n",
        "[(2, 'g'), (3, 'e'), (4, 'e'), (5, 'k')]\n",
        "\n",
        "## Next()\n",
        "The next() function returns the next (or just first) item in an iterator."
      ]
    },
    {
      "cell_type": "code",
      "metadata": {
        "id": "k2VWDSK6qkqk",
        "colab_type": "code",
        "outputId": "fdc3931c-104f-4225-96e7-66a97f8e3312",
        "colab": {
          "base_uri": "https://localhost:8080/",
          "height": 34
        }
      },
      "source": [
        "example_data.shape"
      ],
      "execution_count": 6,
      "outputs": [
        {
          "output_type": "execute_result",
          "data": {
            "text/plain": [
              "torch.Size([1000, 1, 28, 28])"
            ]
          },
          "metadata": {
            "tags": []
          },
          "execution_count": 6
        }
      ]
    },
    {
      "cell_type": "code",
      "metadata": {
        "id": "6X4y8mIBqoRx",
        "colab_type": "code",
        "outputId": "e0385985-9fad-4c5f-9463-84221ddb8010",
        "colab": {
          "base_uri": "https://localhost:8080/",
          "height": 284
        }
      },
      "source": [
        "import matplotlib.pyplot as plt\n",
        "\n",
        "fig = plt.figure()\n",
        "for i in range(6):\n",
        "  plt.subplot(2,3,i+1)\n",
        "  plt.tight_layout()\n",
        "  plt.imshow(example_data[i][0], cmap='gray', interpolation='none')\n",
        "  plt.title(\"Ground Truth: {}\".format(example_targets[i]))\n",
        "  plt.xticks([])\n",
        "  plt.yticks([])\n",
        "# fig"
      ],
      "execution_count": 7,
      "outputs": [
        {
          "output_type": "display_data",
          "data": {
            "image/png": "[encoded data removed]",
            "text/plain": [
              "<Figure size 432x288 with 6 Axes>"
            ]
          },
          "metadata": {
            "tags": []
          }
        }
      ]
    },
    {
      "cell_type": "markdown",
      "metadata": {
        "id": "_aMTLXZ-0wBW",
        "colab_type": "text"
      },
      "source": [
        "# Building the Network"
      ]
    },
    {
      "cell_type": "markdown",
      "metadata": {
        "id": "EL9WIOL2sesy",
        "colab_type": "text"
      },
      "source": [
        "We’ll be making use of four major functions in our CNN class:\n",
        "\n",
        "1.    **torch.nn.Conv2d(in_channels, out_channels, kernel_size, stride, padding)** – applies convolution\n",
        "2.   **torch.nn.relu(x)** – applies ReLU\n",
        "3.  **torch.nn.MaxPool2d(kernel_size, stride, padding)** – applies max pooling\n",
        "4. **torch.nn.Linear(in_features, out_features)** – fully connected layer (multiply inputs by learned weights)\n",
        "\n",
        "    \n",
        "    \n",
        "    \n"
      ]
    },
    {
      "cell_type": "code",
      "metadata": {
        "id": "IawTXr0dquUQ",
        "colab_type": "code",
        "colab": {}
      },
      "source": [
        "import torch.nn as nn\n",
        "import torch.nn.functional as F\n",
        "\n",
        "class SimpleCNN(nn.Module):\n",
        "  def __init__(self):\n",
        "    \"\"\"\n",
        "    D_in: input dimension\n",
        "    H: dimension of hidden layer\n",
        "    D_out: output dimension\n",
        "    \"\"\"\n",
        "    super(SimpleCNN, self).__init__()\n",
        "    \n",
        "    self.cnn = nn.Sequential(\n",
        "      # 1*28*28*batchSize\n",
        "      nn.Conv2d(1, 10, kernel_size=5, stride=1, padding=1),\n",
        "      nn.Dropout2d(),\n",
        "      # 10*26*26*batchSize\n",
        "      nn.MaxPool2d(kernel_size=2, stride=2, padding=0),\n",
        "      #10*13*13*batchSize       \n",
        "      nn.ReLU(),\n",
        "      #10*13*13*batchSize  \n",
        "      nn.Conv2d(10, 20, kernel_size=4, stride=1, padding=1),\n",
        "      nn.Dropout2d(),\n",
        "      #20*12*12*batchSize\n",
        "      nn.MaxPool2d(kernel_size=2, stride=2, padding=0),\n",
        "      #20*6*6*batchSize       \n",
        "      nn.ReLU()\n",
        "    )\n",
        "    self.fc = nn.Sequential(\n",
        "      nn.Linear(20 * 6 * 6 , 50),\n",
        "      nn.ReLU(),\n",
        "      nn.Linear(50, 10)\n",
        "    )\n",
        "  \n",
        "  def forward(self, x):\n",
        "    x_cnn = self.cnn(x)\n",
        "    cnn_fc = x_cnn.view(-1, 20 * 6 * 6)\n",
        "    fc_y = self.fc(cnn_fc)\n",
        "    return F.log_softmax(fc_y)"
      ],
      "execution_count": 0,
      "outputs": []
    },
    {
      "cell_type": "markdown",
      "metadata": {
        "id": "CfdUNdkHvRyJ",
        "colab_type": "text"
      },
      "source": [
        "# Initialize model"
      ]
    },
    {
      "cell_type": "code",
      "metadata": {
        "id": "-Zz9uYJjxB4-",
        "colab_type": "code",
        "colab": {}
      },
      "source": [
        "from torchsummary import summary\n",
        "import torch.optim as optim"
      ],
      "execution_count": 0,
      "outputs": []
    },
    {
      "cell_type": "markdown",
      "metadata": {
        "id": "AfqdXfNqxyCh",
        "colab_type": "text"
      },
      "source": [
        "Pour verifier toutes les fonctions dans une class faire: dir(tla_-classe)\n",
        "ex:dir(torch.nn)"
      ]
    },
    {
      "cell_type": "code",
      "metadata": {
        "id": "R2Wy1wNsyD43",
        "colab_type": "code",
        "colab": {}
      },
      "source": [
        "# dir(torch.nn)"
      ],
      "execution_count": 0,
      "outputs": []
    },
    {
      "cell_type": "markdown",
      "metadata": {
        "id": "j9iZO1ch_qLx",
        "colab_type": "text"
      },
      "source": [
        "## Check CUDA"
      ]
    },
    {
      "cell_type": "code",
      "metadata": {
        "id": "x7phbhDQ_wfV",
        "colab_type": "code",
        "colab": {
          "base_uri": "https://localhost:8080/",
          "height": 34
        },
        "outputId": "9d71da50-6552-4711-b217-21fa6db0ad2e"
      },
      "source": [
        "\n",
        "torch.cuda.is_available()\n",
        "torch.cuda.current_device()\n",
        "torch.cuda.get_device_name(0)"
      ],
      "execution_count": 11,
      "outputs": [
        {
          "output_type": "execute_result",
          "data": {
            "text/plain": [
              "'Tesla T4'"
            ]
          },
          "metadata": {
            "tags": []
          },
          "execution_count": 11
        }
      ]
    },
    {
      "cell_type": "code",
      "metadata": {
        "id": "fZgJlKuNAeir",
        "colab_type": "code",
        "colab": {}
      },
      "source": [
        "# Returns the current GPU memory usage by \n",
        "# tensors in bytes for a given device\n",
        "torch.cuda.memory_allocated()\n",
        "\n",
        "# Returns the current GPU memory managed by the\n",
        "# caching allocator in bytes for a given device\n",
        "torch.cuda.memory_cached()\n",
        "\n",
        "# Releases all unoccupied cached memory currently held by\n",
        "# the caching allocator so that those can be used in other\n",
        "# GPU application and visible in nvidia-smi\n",
        "torch.cuda.empty_cache()"
      ],
      "execution_count": 0,
      "outputs": []
    },
    {
      "cell_type": "code",
      "metadata": {
        "id": "XJqzxupIvWjM",
        "colab_type": "code",
        "outputId": "6ea051a3-dd12-4efc-998e-09759c82ce0c",
        "colab": {
          "base_uri": "https://localhost:8080/",
          "height": 34
        }
      },
      "source": [
        "# You can check if it is on GPU device or not, for that you will have to check \n",
        "# if its parameters are on GPU or not, like:\n",
        "model = SimpleCNN().cuda()\n",
        "next(model.parameters()).is_cuda"
      ],
      "execution_count": 100,
      "outputs": [
        {
          "output_type": "execute_result",
          "data": {
            "text/plain": [
              "True"
            ]
          },
          "metadata": {
            "tags": []
          },
          "execution_count": 100
        }
      ]
    },
    {
      "cell_type": "code",
      "metadata": {
        "id": "h2fw1lttB3Xp",
        "colab_type": "code",
        "colab": {
          "base_uri": "https://localhost:8080/",
          "height": 471
        },
        "outputId": "544ff4d8-f27a-44d0-ecb2-387a26f79cef"
      },
      "source": [
        "summary(model, input_size=(1, 28, 28))"
      ],
      "execution_count": 101,
      "outputs": [
        {
          "output_type": "stream",
          "text": [
            "----------------------------------------------------------------\n",
            "        Layer (type)               Output Shape         Param #\n",
            "================================================================\n",
            "            Conv2d-1           [-1, 10, 26, 26]             260\n",
            "         Dropout2d-2           [-1, 10, 26, 26]               0\n",
            "         MaxPool2d-3           [-1, 10, 13, 13]               0\n",
            "              ReLU-4           [-1, 10, 13, 13]               0\n",
            "            Conv2d-5           [-1, 20, 12, 12]           3,220\n",
            "         Dropout2d-6           [-1, 20, 12, 12]               0\n",
            "         MaxPool2d-7             [-1, 20, 6, 6]               0\n",
            "              ReLU-8             [-1, 20, 6, 6]               0\n",
            "            Linear-9                   [-1, 50]          36,050\n",
            "             ReLU-10                   [-1, 50]               0\n",
            "           Linear-11                   [-1, 10]             510\n",
            "================================================================\n",
            "Total params: 40,040\n",
            "Trainable params: 40,040\n",
            "Non-trainable params: 0\n",
            "----------------------------------------------------------------\n",
            "Input size (MB): 0.00\n",
            "Forward/backward pass size (MB): 0.18\n",
            "Params size (MB): 0.15\n",
            "Estimated Total Size (MB): 0.34\n",
            "----------------------------------------------------------------\n"
          ],
          "name": "stdout"
        },
        {
          "output_type": "stream",
          "text": [
            "/usr/local/lib/python3.6/dist-packages/ipykernel_launcher.py:39: UserWarning: Implicit dimension choice for log_softmax has been deprecated. Change the call to include dim=X as an argument.\n"
          ],
          "name": "stderr"
        }
      ]
    },
    {
      "cell_type": "code",
      "metadata": {
        "id": "wZWSD5eUxK3p",
        "colab_type": "code",
        "colab": {}
      },
      "source": [
        "optimizer = optim.SGD(model.parameters(), lr=learning_rate,\n",
        "                      momentum=momentum)"
      ],
      "execution_count": 0,
      "outputs": []
    },
    {
      "cell_type": "markdown",
      "metadata": {
        "id": "mZAmU2bav5Nd",
        "colab_type": "text"
      },
      "source": [
        "# Train Model"
      ]
    },
    {
      "cell_type": "code",
      "metadata": {
        "id": "MVAJDbXfE9Nw",
        "colab_type": "code",
        "colab": {}
      },
      "source": [
        "train_losses = []\n",
        "train_counter = []\n",
        "test_losses = []\n",
        "test_counter = [i*len(train_loader.dataset) for i in range(n_epochs + 1)]"
      ],
      "execution_count": 0,
      "outputs": []
    },
    {
      "cell_type": "code",
      "metadata": {
        "id": "3DUizy_YFWpJ",
        "colab_type": "code",
        "colab": {}
      },
      "source": [
        "def train(epoch):\n",
        "  model.train()\n",
        "  for batch_idx, (data, target) in enumerate(train_loader):\n",
        "    optimizer.zero_grad()\n",
        "    data = data.cuda()\n",
        "    target = target.cuda()\n",
        "    output = model(data)\n",
        "    loss = F.nll_loss(output, target)\n",
        "    loss.backward()\n",
        "    optimizer.step()\n",
        "    \n",
        "    if batch_idx % log_interval == 0:\n",
        "      print('Train Epoch: {} [{}/{} ({:.0f}%)]\\tLoss: {:.6f}'.format(\n",
        "        epoch, batch_idx * len(data), len(train_loader.dataset),\n",
        "        100. * batch_idx / len(train_loader), loss.item()))\n",
        "      train_losses.append(loss.item())\n",
        "      train_counter.append(\n",
        "        (batch_idx*64) + ((epoch-1)*len(train_loader.dataset)))\n",
        "      torch.save(model.state_dict(), '/results/model.pth')\n",
        "      torch.save(optimizer.state_dict(), '/results/optimizer.pth')"
      ],
      "execution_count": 0,
      "outputs": []
    },
    {
      "cell_type": "markdown",
      "metadata": {
        "id": "1xABbwVGFv3F",
        "colab_type": "text"
      },
      "source": [
        "# Test Model"
      ]
    },
    {
      "cell_type": "code",
      "metadata": {
        "id": "Kzi6hB-7FsPe",
        "colab_type": "code",
        "colab": {}
      },
      "source": [
        "def test():\n",
        "  model.eval()\n",
        "  test_loss = 0\n",
        "  correct = 0\n",
        "  with torch.no_grad():\n",
        "    for data, target in test_loader:\n",
        "      data = data.cuda()\n",
        "      target = target.cuda()\n",
        "      output = model(data)\n",
        "      test_loss += F.nll_loss(output, target, size_average=False).item()\n",
        "      pred = output.data.max(1, keepdim=True)[1]\n",
        "      correct += pred.eq(target.data.view_as(pred)).sum()\n",
        "  test_loss /= len(test_loader.dataset)\n",
        "  test_losses.append(test_loss)\n",
        "  print('\\nTest set: Avg. loss: {:.4f}, Accuracy: {}/{} ({:.0f}%)\\n'.format(\n",
        "    test_loss, correct, len(test_loader.dataset),\n",
        "    100. * correct / len(test_loader.dataset)))"
      ],
      "execution_count": 0,
      "outputs": []
    },
    {
      "cell_type": "markdown",
      "metadata": {
        "id": "OuElCWPPF_L6",
        "colab_type": "text"
      },
      "source": [
        "# Go!"
      ]
    },
    {
      "cell_type": "code",
      "metadata": {
        "id": "TpiDqW3irwaJ",
        "colab_type": "code",
        "colab": {
          "base_uri": "https://localhost:8080/",
          "height": 34
        },
        "outputId": "38efc143-9138-48e6-81bd-d6d3cea7da6c"
      },
      "source": [
        "!mkdir /results/"
      ],
      "execution_count": 87,
      "outputs": [
        {
          "output_type": "stream",
          "text": [
            "mkdir: cannot create directory ‘/results/’: File exists\n"
          ],
          "name": "stdout"
        }
      ]
    },
    {
      "cell_type": "code",
      "metadata": {
        "id": "IDSwy24nF6GU",
        "colab_type": "code",
        "colab": {
          "base_uri": "https://localhost:8080/",
          "height": 1000
        },
        "outputId": "b03a15ad-be7f-4c7a-a8b2-c559c6654f7e"
      },
      "source": [
        "test()\n",
        "for epoch in range(1, n_epochs + 1):\n",
        "  train(epoch)\n",
        "  test()"
      ],
      "execution_count": 106,
      "outputs": [
        {
          "output_type": "stream",
          "text": [
            "/usr/local/lib/python3.6/dist-packages/ipykernel_launcher.py:39: UserWarning: Implicit dimension choice for log_softmax has been deprecated. Change the call to include dim=X as an argument.\n",
            "/usr/local/lib/python3.6/dist-packages/torch/nn/_reduction.py:46: UserWarning: size_average and reduce args will be deprecated, please use reduction='sum' instead.\n",
            "  warnings.warn(warning.format(ret))\n"
          ],
          "name": "stderr"
        },
        {
          "output_type": "stream",
          "text": [
            "\n",
            "Test set: Avg. loss: 2.3015, Accuracy: 1786/10000 (17%)\n",
            "\n",
            "Train Epoch: 1 [0/60000 (0%)]\tLoss: 2.318098\n",
            "Train Epoch: 1 [640/60000 (1%)]\tLoss: 2.322612\n",
            "Train Epoch: 1 [1280/60000 (2%)]\tLoss: 2.282612\n",
            "Train Epoch: 1 [1920/60000 (3%)]\tLoss: 2.296625\n",
            "Train Epoch: 1 [2560/60000 (4%)]\tLoss: 2.257823\n",
            "Train Epoch: 1 [3200/60000 (5%)]\tLoss: 2.244452\n",
            "Train Epoch: 1 [3840/60000 (6%)]\tLoss: 2.120614\n",
            "Train Epoch: 1 [4480/60000 (7%)]\tLoss: 2.110514\n",
            "Train Epoch: 1 [5120/60000 (9%)]\tLoss: 1.738924\n",
            "Train Epoch: 1 [5760/60000 (10%)]\tLoss: 1.725875\n",
            "Train Epoch: 1 [6400/60000 (11%)]\tLoss: 1.623025\n",
            "Train Epoch: 1 [7040/60000 (12%)]\tLoss: 1.231672\n",
            "Train Epoch: 1 [7680/60000 (13%)]\tLoss: 1.371405\n",
            "Train Epoch: 1 [8320/60000 (14%)]\tLoss: 0.902452\n",
            "Train Epoch: 1 [8960/60000 (15%)]\tLoss: 1.115312\n",
            "Train Epoch: 1 [9600/60000 (16%)]\tLoss: 1.029146\n",
            "Train Epoch: 1 [10240/60000 (17%)]\tLoss: 0.907752\n",
            "Train Epoch: 1 [10880/60000 (18%)]\tLoss: 1.333091\n",
            "Train Epoch: 1 [11520/60000 (19%)]\tLoss: 0.780223\n",
            "Train Epoch: 1 [12160/60000 (20%)]\tLoss: 0.757058\n",
            "Train Epoch: 1 [12800/60000 (21%)]\tLoss: 0.607608\n",
            "Train Epoch: 1 [13440/60000 (22%)]\tLoss: 0.726002\n",
            "Train Epoch: 1 [14080/60000 (23%)]\tLoss: 0.754969\n",
            "Train Epoch: 1 [14720/60000 (25%)]\tLoss: 0.850798\n",
            "Train Epoch: 1 [15360/60000 (26%)]\tLoss: 0.725731\n",
            "Train Epoch: 1 [16000/60000 (27%)]\tLoss: 0.581553\n",
            "Train Epoch: 1 [16640/60000 (28%)]\tLoss: 0.614615\n",
            "Train Epoch: 1 [17280/60000 (29%)]\tLoss: 0.685436\n",
            "Train Epoch: 1 [17920/60000 (30%)]\tLoss: 0.856689\n",
            "Train Epoch: 1 [18560/60000 (31%)]\tLoss: 0.682710\n",
            "Train Epoch: 1 [19200/60000 (32%)]\tLoss: 0.499532\n",
            "Train Epoch: 1 [19840/60000 (33%)]\tLoss: 0.478468\n",
            "Train Epoch: 1 [20480/60000 (34%)]\tLoss: 0.505865\n",
            "Train Epoch: 1 [21120/60000 (35%)]\tLoss: 0.592405\n",
            "Train Epoch: 1 [21760/60000 (36%)]\tLoss: 0.694044\n",
            "Train Epoch: 1 [22400/60000 (37%)]\tLoss: 0.551267\n",
            "Train Epoch: 1 [23040/60000 (38%)]\tLoss: 0.646665\n",
            "Train Epoch: 1 [23680/60000 (39%)]\tLoss: 0.496128\n",
            "Train Epoch: 1 [24320/60000 (41%)]\tLoss: 0.585834\n",
            "Train Epoch: 1 [24960/60000 (42%)]\tLoss: 0.586919\n",
            "Train Epoch: 1 [25600/60000 (43%)]\tLoss: 0.512386\n",
            "Train Epoch: 1 [26240/60000 (44%)]\tLoss: 0.577797\n",
            "Train Epoch: 1 [26880/60000 (45%)]\tLoss: 0.518467\n",
            "Train Epoch: 1 [27520/60000 (46%)]\tLoss: 0.544334\n",
            "Train Epoch: 1 [28160/60000 (47%)]\tLoss: 0.392490\n",
            "Train Epoch: 1 [28800/60000 (48%)]\tLoss: 0.560501\n",
            "Train Epoch: 1 [29440/60000 (49%)]\tLoss: 0.631629\n",
            "Train Epoch: 1 [30080/60000 (50%)]\tLoss: 0.422088\n",
            "Train Epoch: 1 [30720/60000 (51%)]\tLoss: 0.541586\n",
            "Train Epoch: 1 [31360/60000 (52%)]\tLoss: 0.368444\n",
            "Train Epoch: 1 [32000/60000 (53%)]\tLoss: 0.496786\n",
            "Train Epoch: 1 [32640/60000 (54%)]\tLoss: 0.478082\n",
            "Train Epoch: 1 [33280/60000 (55%)]\tLoss: 0.446852\n",
            "Train Epoch: 1 [33920/60000 (57%)]\tLoss: 0.545671\n",
            "Train Epoch: 1 [34560/60000 (58%)]\tLoss: 0.369004\n",
            "Train Epoch: 1 [35200/60000 (59%)]\tLoss: 0.274055\n",
            "Train Epoch: 1 [35840/60000 (60%)]\tLoss: 0.534877\n",
            "Train Epoch: 1 [36480/60000 (61%)]\tLoss: 0.331986\n",
            "Train Epoch: 1 [37120/60000 (62%)]\tLoss: 0.498476\n",
            "Train Epoch: 1 [37760/60000 (63%)]\tLoss: 0.308193\n",
            "Train Epoch: 1 [38400/60000 (64%)]\tLoss: 0.189807\n",
            "Train Epoch: 1 [39040/60000 (65%)]\tLoss: 0.425638\n",
            "Train Epoch: 1 [39680/60000 (66%)]\tLoss: 0.222954\n",
            "Train Epoch: 1 [40320/60000 (67%)]\tLoss: 0.242730\n",
            "Train Epoch: 1 [40960/60000 (68%)]\tLoss: 0.235623\n",
            "Train Epoch: 1 [41600/60000 (69%)]\tLoss: 0.305057\n",
            "Train Epoch: 1 [42240/60000 (70%)]\tLoss: 0.269226\n",
            "Train Epoch: 1 [42880/60000 (71%)]\tLoss: 0.642406\n",
            "Train Epoch: 1 [43520/60000 (72%)]\tLoss: 0.312857\n",
            "Train Epoch: 1 [44160/60000 (74%)]\tLoss: 0.439609\n",
            "Train Epoch: 1 [44800/60000 (75%)]\tLoss: 0.331236\n",
            "Train Epoch: 1 [45440/60000 (76%)]\tLoss: 0.407208\n",
            "Train Epoch: 1 [46080/60000 (77%)]\tLoss: 0.418997\n",
            "Train Epoch: 1 [46720/60000 (78%)]\tLoss: 0.329540\n",
            "Train Epoch: 1 [47360/60000 (79%)]\tLoss: 0.427541\n",
            "Train Epoch: 1 [48000/60000 (80%)]\tLoss: 0.404285\n",
            "Train Epoch: 1 [48640/60000 (81%)]\tLoss: 0.267396\n",
            "Train Epoch: 1 [49280/60000 (82%)]\tLoss: 0.500685\n",
            "Train Epoch: 1 [49920/60000 (83%)]\tLoss: 0.275693\n",
            "Train Epoch: 1 [50560/60000 (84%)]\tLoss: 0.237629\n",
            "Train Epoch: 1 [51200/60000 (85%)]\tLoss: 0.618959\n",
            "Train Epoch: 1 [51840/60000 (86%)]\tLoss: 0.387258\n",
            "Train Epoch: 1 [52480/60000 (87%)]\tLoss: 0.213612\n",
            "Train Epoch: 1 [53120/60000 (88%)]\tLoss: 0.212615\n",
            "Train Epoch: 1 [53760/60000 (90%)]\tLoss: 0.250741\n",
            "Train Epoch: 1 [54400/60000 (91%)]\tLoss: 0.261167\n",
            "Train Epoch: 1 [55040/60000 (92%)]\tLoss: 0.503472\n",
            "Train Epoch: 1 [55680/60000 (93%)]\tLoss: 0.385995\n",
            "Train Epoch: 1 [56320/60000 (94%)]\tLoss: 0.232794\n",
            "Train Epoch: 1 [56960/60000 (95%)]\tLoss: 0.314054\n",
            "Train Epoch: 1 [57600/60000 (96%)]\tLoss: 0.489517\n",
            "Train Epoch: 1 [58240/60000 (97%)]\tLoss: 0.320597\n",
            "Train Epoch: 1 [58880/60000 (98%)]\tLoss: 0.399642\n",
            "Train Epoch: 1 [59520/60000 (99%)]\tLoss: 0.149625\n",
            "\n",
            "Test set: Avg. loss: 0.1753, Accuracy: 9470/10000 (94%)\n",
            "\n",
            "Train Epoch: 2 [0/60000 (0%)]\tLoss: 0.151896\n",
            "Train Epoch: 2 [640/60000 (1%)]\tLoss: 0.302150\n",
            "Train Epoch: 2 [1280/60000 (2%)]\tLoss: 0.167687\n",
            "Train Epoch: 2 [1920/60000 (3%)]\tLoss: 0.383520\n",
            "Train Epoch: 2 [2560/60000 (4%)]\tLoss: 0.340352\n",
            "Train Epoch: 2 [3200/60000 (5%)]\tLoss: 0.251409\n",
            "Train Epoch: 2 [3840/60000 (6%)]\tLoss: 0.334383\n",
            "Train Epoch: 2 [4480/60000 (7%)]\tLoss: 0.175124\n",
            "Train Epoch: 2 [5120/60000 (9%)]\tLoss: 0.210016\n",
            "Train Epoch: 2 [5760/60000 (10%)]\tLoss: 0.315972\n",
            "Train Epoch: 2 [6400/60000 (11%)]\tLoss: 0.336445\n",
            "Train Epoch: 2 [7040/60000 (12%)]\tLoss: 0.159768\n",
            "Train Epoch: 2 [7680/60000 (13%)]\tLoss: 0.246990\n",
            "Train Epoch: 2 [8320/60000 (14%)]\tLoss: 0.643278\n",
            "Train Epoch: 2 [8960/60000 (15%)]\tLoss: 0.387874\n",
            "Train Epoch: 2 [9600/60000 (16%)]\tLoss: 0.293638\n",
            "Train Epoch: 2 [10240/60000 (17%)]\tLoss: 0.487928\n",
            "Train Epoch: 2 [10880/60000 (18%)]\tLoss: 0.213913\n",
            "Train Epoch: 2 [11520/60000 (19%)]\tLoss: 0.307801\n",
            "Train Epoch: 2 [12160/60000 (20%)]\tLoss: 0.149858\n",
            "Train Epoch: 2 [12800/60000 (21%)]\tLoss: 0.454114\n",
            "Train Epoch: 2 [13440/60000 (22%)]\tLoss: 0.345162\n",
            "Train Epoch: 2 [14080/60000 (23%)]\tLoss: 0.357975\n",
            "Train Epoch: 2 [14720/60000 (25%)]\tLoss: 0.265562\n",
            "Train Epoch: 2 [15360/60000 (26%)]\tLoss: 0.195239\n",
            "Train Epoch: 2 [16000/60000 (27%)]\tLoss: 0.216054\n",
            "Train Epoch: 2 [16640/60000 (28%)]\tLoss: 0.336987\n",
            "Train Epoch: 2 [17280/60000 (29%)]\tLoss: 0.392214\n",
            "Train Epoch: 2 [17920/60000 (30%)]\tLoss: 0.193447\n",
            "Train Epoch: 2 [18560/60000 (31%)]\tLoss: 0.258582\n",
            "Train Epoch: 2 [19200/60000 (32%)]\tLoss: 0.221084\n",
            "Train Epoch: 2 [19840/60000 (33%)]\tLoss: 0.246130\n",
            "Train Epoch: 2 [20480/60000 (34%)]\tLoss: 0.197435\n",
            "Train Epoch: 2 [21120/60000 (35%)]\tLoss: 0.391200\n",
            "Train Epoch: 2 [21760/60000 (36%)]\tLoss: 0.194750\n",
            "Train Epoch: 2 [22400/60000 (37%)]\tLoss: 0.391546\n",
            "Train Epoch: 2 [23040/60000 (38%)]\tLoss: 0.239894\n",
            "Train Epoch: 2 [23680/60000 (39%)]\tLoss: 0.227255\n",
            "Train Epoch: 2 [24320/60000 (41%)]\tLoss: 0.116037\n",
            "Train Epoch: 2 [24960/60000 (42%)]\tLoss: 0.234813\n",
            "Train Epoch: 2 [25600/60000 (43%)]\tLoss: 0.139753\n",
            "Train Epoch: 2 [26240/60000 (44%)]\tLoss: 0.139153\n",
            "Train Epoch: 2 [26880/60000 (45%)]\tLoss: 0.231921\n",
            "Train Epoch: 2 [27520/60000 (46%)]\tLoss: 0.144306\n",
            "Train Epoch: 2 [28160/60000 (47%)]\tLoss: 0.167581\n",
            "Train Epoch: 2 [28800/60000 (48%)]\tLoss: 0.597186\n",
            "Train Epoch: 2 [29440/60000 (49%)]\tLoss: 0.336892\n",
            "Train Epoch: 2 [30080/60000 (50%)]\tLoss: 0.346439\n",
            "Train Epoch: 2 [30720/60000 (51%)]\tLoss: 0.273243\n",
            "Train Epoch: 2 [31360/60000 (52%)]\tLoss: 0.631465\n",
            "Train Epoch: 2 [32000/60000 (53%)]\tLoss: 0.189015\n",
            "Train Epoch: 2 [32640/60000 (54%)]\tLoss: 0.330473\n",
            "Train Epoch: 2 [33280/60000 (55%)]\tLoss: 0.202856\n",
            "Train Epoch: 2 [33920/60000 (57%)]\tLoss: 0.202831\n",
            "Train Epoch: 2 [34560/60000 (58%)]\tLoss: 0.306523\n",
            "Train Epoch: 2 [35200/60000 (59%)]\tLoss: 0.350372\n",
            "Train Epoch: 2 [35840/60000 (60%)]\tLoss: 0.419534\n",
            "Train Epoch: 2 [36480/60000 (61%)]\tLoss: 0.177145\n",
            "Train Epoch: 2 [37120/60000 (62%)]\tLoss: 0.293624\n",
            "Train Epoch: 2 [37760/60000 (63%)]\tLoss: 0.083766\n",
            "Train Epoch: 2 [38400/60000 (64%)]\tLoss: 0.293112\n",
            "Train Epoch: 2 [39040/60000 (65%)]\tLoss: 0.207187\n",
            "Train Epoch: 2 [39680/60000 (66%)]\tLoss: 0.194785\n",
            "Train Epoch: 2 [40320/60000 (67%)]\tLoss: 0.215298\n",
            "Train Epoch: 2 [40960/60000 (68%)]\tLoss: 0.245694\n",
            "Train Epoch: 2 [41600/60000 (69%)]\tLoss: 0.481676\n",
            "Train Epoch: 2 [42240/60000 (70%)]\tLoss: 0.164009\n",
            "Train Epoch: 2 [42880/60000 (71%)]\tLoss: 0.241093\n",
            "Train Epoch: 2 [43520/60000 (72%)]\tLoss: 0.234362\n",
            "Train Epoch: 2 [44160/60000 (74%)]\tLoss: 0.347582\n",
            "Train Epoch: 2 [44800/60000 (75%)]\tLoss: 0.210443\n",
            "Train Epoch: 2 [45440/60000 (76%)]\tLoss: 0.387832\n",
            "Train Epoch: 2 [46080/60000 (77%)]\tLoss: 0.293012\n",
            "Train Epoch: 2 [46720/60000 (78%)]\tLoss: 0.252598\n",
            "Train Epoch: 2 [47360/60000 (79%)]\tLoss: 0.519416\n",
            "Train Epoch: 2 [48000/60000 (80%)]\tLoss: 0.312339\n",
            "Train Epoch: 2 [48640/60000 (81%)]\tLoss: 0.156474\n",
            "Train Epoch: 2 [49280/60000 (82%)]\tLoss: 0.102580\n",
            "Train Epoch: 2 [49920/60000 (83%)]\tLoss: 0.517519\n",
            "Train Epoch: 2 [50560/60000 (84%)]\tLoss: 0.280571\n",
            "Train Epoch: 2 [51200/60000 (85%)]\tLoss: 0.251780\n",
            "Train Epoch: 2 [51840/60000 (86%)]\tLoss: 0.224288\n",
            "Train Epoch: 2 [52480/60000 (87%)]\tLoss: 0.135902\n",
            "Train Epoch: 2 [53120/60000 (88%)]\tLoss: 0.097827\n",
            "Train Epoch: 2 [53760/60000 (90%)]\tLoss: 0.101705\n",
            "Train Epoch: 2 [54400/60000 (91%)]\tLoss: 0.330859\n",
            "Train Epoch: 2 [55040/60000 (92%)]\tLoss: 0.149173\n",
            "Train Epoch: 2 [55680/60000 (93%)]\tLoss: 0.363692\n",
            "Train Epoch: 2 [56320/60000 (94%)]\tLoss: 0.218026\n",
            "Train Epoch: 2 [56960/60000 (95%)]\tLoss: 0.132694\n",
            "Train Epoch: 2 [57600/60000 (96%)]\tLoss: 0.209674\n",
            "Train Epoch: 2 [58240/60000 (97%)]\tLoss: 0.117108\n",
            "Train Epoch: 2 [58880/60000 (98%)]\tLoss: 0.136887\n",
            "Train Epoch: 2 [59520/60000 (99%)]\tLoss: 0.178161\n",
            "\n",
            "Test set: Avg. loss: 0.1233, Accuracy: 9608/10000 (96%)\n",
            "\n",
            "Train Epoch: 3 [0/60000 (0%)]\tLoss: 0.376522\n",
            "Train Epoch: 3 [640/60000 (1%)]\tLoss: 0.290343\n",
            "Train Epoch: 3 [1280/60000 (2%)]\tLoss: 0.171840\n",
            "Train Epoch: 3 [1920/60000 (3%)]\tLoss: 0.197595\n",
            "Train Epoch: 3 [2560/60000 (4%)]\tLoss: 0.152374\n",
            "Train Epoch: 3 [3200/60000 (5%)]\tLoss: 0.229976\n",
            "Train Epoch: 3 [3840/60000 (6%)]\tLoss: 0.178641\n",
            "Train Epoch: 3 [4480/60000 (7%)]\tLoss: 0.204518\n",
            "Train Epoch: 3 [5120/60000 (9%)]\tLoss: 0.255090\n",
            "Train Epoch: 3 [5760/60000 (10%)]\tLoss: 0.346049\n",
            "Train Epoch: 3 [6400/60000 (11%)]\tLoss: 0.194684\n",
            "Train Epoch: 3 [7040/60000 (12%)]\tLoss: 0.061854\n",
            "Train Epoch: 3 [7680/60000 (13%)]\tLoss: 0.129616\n",
            "Train Epoch: 3 [8320/60000 (14%)]\tLoss: 0.411493\n",
            "Train Epoch: 3 [8960/60000 (15%)]\tLoss: 0.152351\n",
            "Train Epoch: 3 [9600/60000 (16%)]\tLoss: 0.118151\n",
            "Train Epoch: 3 [10240/60000 (17%)]\tLoss: 0.267616\n",
            "Train Epoch: 3 [10880/60000 (18%)]\tLoss: 0.186249\n",
            "Train Epoch: 3 [11520/60000 (19%)]\tLoss: 0.274568\n",
            "Train Epoch: 3 [12160/60000 (20%)]\tLoss: 0.124633\n",
            "Train Epoch: 3 [12800/60000 (21%)]\tLoss: 0.261851\n",
            "Train Epoch: 3 [13440/60000 (22%)]\tLoss: 0.174136\n",
            "Train Epoch: 3 [14080/60000 (23%)]\tLoss: 0.181601\n",
            "Train Epoch: 3 [14720/60000 (25%)]\tLoss: 0.167874\n",
            "Train Epoch: 3 [15360/60000 (26%)]\tLoss: 0.217887\n",
            "Train Epoch: 3 [16000/60000 (27%)]\tLoss: 0.347110\n",
            "Train Epoch: 3 [16640/60000 (28%)]\tLoss: 0.210632\n",
            "Train Epoch: 3 [17280/60000 (29%)]\tLoss: 0.345594\n",
            "Train Epoch: 3 [17920/60000 (30%)]\tLoss: 0.064785\n",
            "Train Epoch: 3 [18560/60000 (31%)]\tLoss: 0.207216\n",
            "Train Epoch: 3 [19200/60000 (32%)]\tLoss: 0.268652\n",
            "Train Epoch: 3 [19840/60000 (33%)]\tLoss: 0.234653\n",
            "Train Epoch: 3 [20480/60000 (34%)]\tLoss: 0.143420\n",
            "Train Epoch: 3 [21120/60000 (35%)]\tLoss: 0.102227\n",
            "Train Epoch: 3 [21760/60000 (36%)]\tLoss: 0.122183\n",
            "Train Epoch: 3 [22400/60000 (37%)]\tLoss: 0.150604\n",
            "Train Epoch: 3 [23040/60000 (38%)]\tLoss: 0.254938\n",
            "Train Epoch: 3 [23680/60000 (39%)]\tLoss: 0.232691\n",
            "Train Epoch: 3 [24320/60000 (41%)]\tLoss: 0.469809\n",
            "Train Epoch: 3 [24960/60000 (42%)]\tLoss: 0.180290\n",
            "Train Epoch: 3 [25600/60000 (43%)]\tLoss: 0.206656\n",
            "Train Epoch: 3 [26240/60000 (44%)]\tLoss: 0.124863\n",
            "Train Epoch: 3 [26880/60000 (45%)]\tLoss: 0.183308\n",
            "Train Epoch: 3 [27520/60000 (46%)]\tLoss: 0.263175\n",
            "Train Epoch: 3 [28160/60000 (47%)]\tLoss: 0.151979\n",
            "Train Epoch: 3 [28800/60000 (48%)]\tLoss: 0.166745\n",
            "Train Epoch: 3 [29440/60000 (49%)]\tLoss: 0.185146\n",
            "Train Epoch: 3 [30080/60000 (50%)]\tLoss: 0.196051\n",
            "Train Epoch: 3 [30720/60000 (51%)]\tLoss: 0.492369\n",
            "Train Epoch: 3 [31360/60000 (52%)]\tLoss: 0.176951\n",
            "Train Epoch: 3 [32000/60000 (53%)]\tLoss: 0.046001\n",
            "Train Epoch: 3 [32640/60000 (54%)]\tLoss: 0.153149\n",
            "Train Epoch: 3 [33280/60000 (55%)]\tLoss: 0.183041\n",
            "Train Epoch: 3 [33920/60000 (57%)]\tLoss: 0.147704\n",
            "Train Epoch: 3 [34560/60000 (58%)]\tLoss: 0.250158\n",
            "Train Epoch: 3 [35200/60000 (59%)]\tLoss: 0.202468\n",
            "Train Epoch: 3 [35840/60000 (60%)]\tLoss: 0.218994\n",
            "Train Epoch: 3 [36480/60000 (61%)]\tLoss: 0.136639\n",
            "Train Epoch: 3 [37120/60000 (62%)]\tLoss: 0.148150\n",
            "Train Epoch: 3 [37760/60000 (63%)]\tLoss: 0.084517\n",
            "Train Epoch: 3 [38400/60000 (64%)]\tLoss: 0.118802\n",
            "Train Epoch: 3 [39040/60000 (65%)]\tLoss: 0.138479\n",
            "Train Epoch: 3 [39680/60000 (66%)]\tLoss: 0.147293\n",
            "Train Epoch: 3 [40320/60000 (67%)]\tLoss: 0.119254\n",
            "Train Epoch: 3 [40960/60000 (68%)]\tLoss: 0.301155\n",
            "Train Epoch: 3 [41600/60000 (69%)]\tLoss: 0.176898\n",
            "Train Epoch: 3 [42240/60000 (70%)]\tLoss: 0.296949\n",
            "Train Epoch: 3 [42880/60000 (71%)]\tLoss: 0.256176\n",
            "Train Epoch: 3 [43520/60000 (72%)]\tLoss: 0.596155\n",
            "Train Epoch: 3 [44160/60000 (74%)]\tLoss: 0.137783\n",
            "Train Epoch: 3 [44800/60000 (75%)]\tLoss: 0.271760\n",
            "Train Epoch: 3 [45440/60000 (76%)]\tLoss: 0.153192\n",
            "Train Epoch: 3 [46080/60000 (77%)]\tLoss: 0.218312\n",
            "Train Epoch: 3 [46720/60000 (78%)]\tLoss: 0.177518\n",
            "Train Epoch: 3 [47360/60000 (79%)]\tLoss: 0.133895\n",
            "Train Epoch: 3 [48000/60000 (80%)]\tLoss: 0.200002\n",
            "Train Epoch: 3 [48640/60000 (81%)]\tLoss: 0.161988\n",
            "Train Epoch: 3 [49280/60000 (82%)]\tLoss: 0.208762\n",
            "Train Epoch: 3 [49920/60000 (83%)]\tLoss: 0.083940\n",
            "Train Epoch: 3 [50560/60000 (84%)]\tLoss: 0.209464\n",
            "Train Epoch: 3 [51200/60000 (85%)]\tLoss: 0.163817\n",
            "Train Epoch: 3 [51840/60000 (86%)]\tLoss: 0.170121\n",
            "Train Epoch: 3 [52480/60000 (87%)]\tLoss: 0.129410\n",
            "Train Epoch: 3 [53120/60000 (88%)]\tLoss: 0.152673\n",
            "Train Epoch: 3 [53760/60000 (90%)]\tLoss: 0.207787\n",
            "Train Epoch: 3 [54400/60000 (91%)]\tLoss: 0.235076\n",
            "Train Epoch: 3 [55040/60000 (92%)]\tLoss: 0.275009\n",
            "Train Epoch: 3 [55680/60000 (93%)]\tLoss: 0.125604\n",
            "Train Epoch: 3 [56320/60000 (94%)]\tLoss: 0.176016\n",
            "Train Epoch: 3 [56960/60000 (95%)]\tLoss: 0.196765\n",
            "Train Epoch: 3 [57600/60000 (96%)]\tLoss: 0.182847\n",
            "Train Epoch: 3 [58240/60000 (97%)]\tLoss: 0.106686\n",
            "Train Epoch: 3 [58880/60000 (98%)]\tLoss: 0.239158\n",
            "Train Epoch: 3 [59520/60000 (99%)]\tLoss: 0.121680\n",
            "\n",
            "Test set: Avg. loss: 0.0901, Accuracy: 9711/10000 (97%)\n",
            "\n"
          ],
          "name": "stdout"
        }
      ]
    },
    {
      "cell_type": "markdown",
      "metadata": {
        "id": "P2lL3yE-HF7j",
        "colab_type": "text"
      },
      "source": [
        "# Error handling\n",
        "**Error 1**: Input type (torch.FloatTensor) and weight type (torch.cuda.FloatTensor) should be the same\n",
        "\n",
        "Here s how I fixed it: \n",
        "\n",
        "```\n",
        "model = SimpleCNN()\n",
        "model.cuda()\n",
        "...\n",
        "def train(epoch):\n",
        "  model.train()\n",
        "  for batch_idx, (data, target) in enumerate(train_loader):\n",
        "    optimizer.zero_grad()\n",
        "    data = data.cuda()\n",
        "```\n",
        "**Error 2 :** Target and input must have the same number of elements. target nelement (1000) != input nelement (10000)\n",
        "\n",
        "Here s how I fixed it:\n",
        " Iwas using\n",
        "\n",
        "```\n",
        "Loss_fn = nn.BCELoss()\n",
        "```\n",
        "First I used BCELoss in a 10 classes problem while it should be a 2classe problem. Apparently this loss needs needs inputs and targets of the same shape, since each element individually could predict the occurrence of the class.  F.nll_loss(output, target) is more appropriate.\n",
        "\n",
        "\n",
        "```\n",
        "# During training\n",
        " loss = F.nll_loss(output, target)\n",
        " # During Test\n",
        " test_loss += F.nll_loss(output, target, size_average=False).item()\n",
        " # We remove the size_average because it not a batch, it one at the time\n",
        "```\n",
        "\n",
        "\n",
        "\n"
      ]
    },
    {
      "cell_type": "markdown",
      "metadata": {
        "id": "J2y_AcxS0He6",
        "colab_type": "text"
      },
      "source": [
        "# Evaluating the Model's Performance"
      ]
    },
    {
      "cell_type": "code",
      "metadata": {
        "id": "NJLVDHhZGBNN",
        "colab_type": "code",
        "colab": {
          "base_uri": "https://localhost:8080/",
          "height": 549
        },
        "outputId": "e302ff0e-f85a-4e07-f195-81aca07f29ca"
      },
      "source": [
        "fig = plt.figure()\n",
        "plt.plot(train_counter, train_losses, color='blue')\n",
        "plt.scatter(test_counter, test_losses, color='red')\n",
        "plt.legend(['Train Loss', 'Test Loss'], loc='upper right')\n",
        "plt.xlabel('number of training examples seen')\n",
        "plt.ylabel('negative log likelihood loss')\n",
        "fig"
      ],
      "execution_count": 107,
      "outputs": [
        {
          "output_type": "execute_result",
          "data": {
            "image/png": "[encoded data removed]",
            "text/plain": [
              "<Figure size 432x288 with 1 Axes>"
            ]
          },
          "metadata": {
            "tags": []
          },
          "execution_count": 107
        },
        {
          "output_type": "display_data",
          "data": {
            "image/png": "[encoded data removed]",
            "text/plain": [
              "<Figure size 432x288 with 1 Axes>"
            ]
          },
          "metadata": {
            "tags": []
          }
        }
      ]
    },
    {
      "cell_type": "code",
      "metadata": {
        "id": "AN2qtwdc0JKU",
        "colab_type": "code",
        "colab": {
          "base_uri": "https://localhost:8080/",
          "height": 321
        },
        "outputId": "7a852823-68f8-4b56-fa8f-37b386db17fb"
      },
      "source": [
        "with torch.no_grad():\n",
        "  output = model(example_data.cuda())\n",
        "  \n",
        "  fig = plt.figure()\n",
        "  for i in range(6):\n",
        "    plt.subplot(2,3,i+1)\n",
        "    plt.tight_layout()\n",
        "    plt.imshow(example_data[i][0], cmap='gray', interpolation='none')\n",
        "    plt.title(\"Prediction: {}\".format(\n",
        "      output.data.max(1, keepdim=True)[1][i].item()))\n",
        "    plt.xticks([])\n",
        "    plt.yticks([])"
      ],
      "execution_count": 108,
      "outputs": [
        {
          "output_type": "stream",
          "text": [
            "/usr/local/lib/python3.6/dist-packages/ipykernel_launcher.py:39: UserWarning: Implicit dimension choice for log_softmax has been deprecated. Change the call to include dim=X as an argument.\n"
          ],
          "name": "stderr"
        },
        {
          "output_type": "display_data",
          "data": {
            "image/png": "[encoded data removed]",
            "text/plain": [
              "<Figure size 432x288 with 6 Axes>"
            ]
          },
          "metadata": {
            "tags": []
          }
        }
      ]
    },
    {
      "cell_type": "markdown",
      "metadata": {
        "id": "KA_DA6WJ0r2W",
        "colab_type": "text"
      },
      "source": [
        "# Continued Training from Checkpoints"
      ]
    },
    {
      "cell_type": "markdown",
      "metadata": {
        "id": "m35H9fL00yga",
        "colab_type": "text"
      },
      "source": [
        "we can continue training from the state_dicts we saved during our first training run. We'll initialize a new set of network and optimizers."
      ]
    },
    {
      "cell_type": "code",
      "metadata": {
        "id": "Vngg5PG80hO-",
        "colab_type": "code",
        "colab": {}
      },
      "source": [
        "continued_network = SimpleCNN().cuda()\n",
        "continued_optimizer = optim.SGD(continued_network.parameters(), lr=learning_rate,\n",
        "                                momentum=momentum)"
      ],
      "execution_count": 0,
      "outputs": []
    },
    {
      "cell_type": "code",
      "metadata": {
        "id": "IFDI5SEQ1hv4",
        "colab_type": "code",
        "colab": {}
      },
      "source": [
        "network_state_dict = torch.load('/results/model.pth')\n",
        "continued_network.load_state_dict(network_state_dict)\n",
        "\n",
        "optimizer_state_dict = torch.load('/results/optimizer.pth')\n",
        "continued_optimizer.load_state_dict(optimizer_state_dict)"
      ],
      "execution_count": 0,
      "outputs": []
    },
    {
      "cell_type": "code",
      "metadata": {
        "id": "TefF2RQf1edV",
        "colab_type": "code",
        "colab": {
          "base_uri": "https://localhost:8080/",
          "height": 1000
        },
        "outputId": "4106c649-aa95-4f9b-a2ba-366d872ef17f"
      },
      "source": [
        "for i in range(4,9):\n",
        "  test_counter.append(i*len(train_loader.dataset))\n",
        "  train(i)\n",
        "  test()"
      ],
      "execution_count": 112,
      "outputs": [
        {
          "output_type": "stream",
          "text": [
            "/usr/local/lib/python3.6/dist-packages/ipykernel_launcher.py:39: UserWarning: Implicit dimension choice for log_softmax has been deprecated. Change the call to include dim=X as an argument.\n"
          ],
          "name": "stderr"
        },
        {
          "output_type": "stream",
          "text": [
            "Train Epoch: 4 [0/60000 (0%)]\tLoss: 0.471098\n",
            "Train Epoch: 4 [640/60000 (1%)]\tLoss: 0.534659\n",
            "Train Epoch: 4 [1280/60000 (2%)]\tLoss: 0.134836\n",
            "Train Epoch: 4 [1920/60000 (3%)]\tLoss: 0.124227\n",
            "Train Epoch: 4 [2560/60000 (4%)]\tLoss: 0.295947\n",
            "Train Epoch: 4 [3200/60000 (5%)]\tLoss: 0.054617\n",
            "Train Epoch: 4 [3840/60000 (6%)]\tLoss: 0.154323\n",
            "Train Epoch: 4 [4480/60000 (7%)]\tLoss: 0.122867\n",
            "Train Epoch: 4 [5120/60000 (9%)]\tLoss: 0.099395\n",
            "Train Epoch: 4 [5760/60000 (10%)]\tLoss: 0.280126\n",
            "Train Epoch: 4 [6400/60000 (11%)]\tLoss: 0.215712\n",
            "Train Epoch: 4 [7040/60000 (12%)]\tLoss: 0.258830\n",
            "Train Epoch: 4 [7680/60000 (13%)]\tLoss: 0.160442\n",
            "Train Epoch: 4 [8320/60000 (14%)]\tLoss: 0.085728\n",
            "Train Epoch: 4 [8960/60000 (15%)]\tLoss: 0.247751\n",
            "Train Epoch: 4 [9600/60000 (16%)]\tLoss: 0.147893\n",
            "Train Epoch: 4 [10240/60000 (17%)]\tLoss: 0.186051\n",
            "Train Epoch: 4 [10880/60000 (18%)]\tLoss: 0.024697\n",
            "Train Epoch: 4 [11520/60000 (19%)]\tLoss: 0.153598\n",
            "Train Epoch: 4 [12160/60000 (20%)]\tLoss: 0.093244\n",
            "Train Epoch: 4 [12800/60000 (21%)]\tLoss: 0.138805\n",
            "Train Epoch: 4 [13440/60000 (22%)]\tLoss: 0.205484\n",
            "Train Epoch: 4 [14080/60000 (23%)]\tLoss: 0.232225\n",
            "Train Epoch: 4 [14720/60000 (25%)]\tLoss: 0.157547\n",
            "Train Epoch: 4 [15360/60000 (26%)]\tLoss: 0.338789\n",
            "Train Epoch: 4 [16000/60000 (27%)]\tLoss: 0.206854\n",
            "Train Epoch: 4 [16640/60000 (28%)]\tLoss: 0.233415\n",
            "Train Epoch: 4 [17280/60000 (29%)]\tLoss: 0.180016\n",
            "Train Epoch: 4 [17920/60000 (30%)]\tLoss: 0.276481\n",
            "Train Epoch: 4 [18560/60000 (31%)]\tLoss: 0.103188\n",
            "Train Epoch: 4 [19200/60000 (32%)]\tLoss: 0.084768\n",
            "Train Epoch: 4 [19840/60000 (33%)]\tLoss: 0.106151\n",
            "Train Epoch: 4 [20480/60000 (34%)]\tLoss: 0.060513\n",
            "Train Epoch: 4 [21120/60000 (35%)]\tLoss: 0.264792\n",
            "Train Epoch: 4 [21760/60000 (36%)]\tLoss: 0.049728\n",
            "Train Epoch: 4 [22400/60000 (37%)]\tLoss: 0.239024\n",
            "Train Epoch: 4 [23040/60000 (38%)]\tLoss: 0.185467\n",
            "Train Epoch: 4 [23680/60000 (39%)]\tLoss: 0.224650\n",
            "Train Epoch: 4 [24320/60000 (41%)]\tLoss: 0.172710\n",
            "Train Epoch: 4 [24960/60000 (42%)]\tLoss: 0.176359\n",
            "Train Epoch: 4 [25600/60000 (43%)]\tLoss: 0.164144\n",
            "Train Epoch: 4 [26240/60000 (44%)]\tLoss: 0.257192\n",
            "Train Epoch: 4 [26880/60000 (45%)]\tLoss: 0.151713\n",
            "Train Epoch: 4 [27520/60000 (46%)]\tLoss: 0.147730\n",
            "Train Epoch: 4 [28160/60000 (47%)]\tLoss: 0.146753\n",
            "Train Epoch: 4 [28800/60000 (48%)]\tLoss: 0.163039\n",
            "Train Epoch: 4 [29440/60000 (49%)]\tLoss: 0.055709\n",
            "Train Epoch: 4 [30080/60000 (50%)]\tLoss: 0.290000\n",
            "Train Epoch: 4 [30720/60000 (51%)]\tLoss: 0.241741\n",
            "Train Epoch: 4 [31360/60000 (52%)]\tLoss: 0.181705\n",
            "Train Epoch: 4 [32000/60000 (53%)]\tLoss: 0.183055\n",
            "Train Epoch: 4 [32640/60000 (54%)]\tLoss: 0.089213\n",
            "Train Epoch: 4 [33280/60000 (55%)]\tLoss: 0.166784\n",
            "Train Epoch: 4 [33920/60000 (57%)]\tLoss: 0.129790\n",
            "Train Epoch: 4 [34560/60000 (58%)]\tLoss: 0.075474\n",
            "Train Epoch: 4 [35200/60000 (59%)]\tLoss: 0.073468\n",
            "Train Epoch: 4 [35840/60000 (60%)]\tLoss: 0.113126\n",
            "Train Epoch: 4 [36480/60000 (61%)]\tLoss: 0.218751\n",
            "Train Epoch: 4 [37120/60000 (62%)]\tLoss: 0.130490\n",
            "Train Epoch: 4 [37760/60000 (63%)]\tLoss: 0.198016\n",
            "Train Epoch: 4 [38400/60000 (64%)]\tLoss: 0.198969\n",
            "Train Epoch: 4 [39040/60000 (65%)]\tLoss: 0.065749\n",
            "Train Epoch: 4 [39680/60000 (66%)]\tLoss: 0.364694\n",
            "Train Epoch: 4 [40320/60000 (67%)]\tLoss: 0.230562\n",
            "Train Epoch: 4 [40960/60000 (68%)]\tLoss: 0.077775\n",
            "Train Epoch: 4 [41600/60000 (69%)]\tLoss: 0.145874\n",
            "Train Epoch: 4 [42240/60000 (70%)]\tLoss: 0.162774\n",
            "Train Epoch: 4 [42880/60000 (71%)]\tLoss: 0.041272\n",
            "Train Epoch: 4 [43520/60000 (72%)]\tLoss: 0.018858\n",
            "Train Epoch: 4 [44160/60000 (74%)]\tLoss: 0.118794\n",
            "Train Epoch: 4 [44800/60000 (75%)]\tLoss: 0.174066\n",
            "Train Epoch: 4 [45440/60000 (76%)]\tLoss: 0.066462\n",
            "Train Epoch: 4 [46080/60000 (77%)]\tLoss: 0.123618\n",
            "Train Epoch: 4 [46720/60000 (78%)]\tLoss: 0.236793\n",
            "Train Epoch: 4 [47360/60000 (79%)]\tLoss: 0.170009\n",
            "Train Epoch: 4 [48000/60000 (80%)]\tLoss: 0.085946\n",
            "Train Epoch: 4 [48640/60000 (81%)]\tLoss: 0.193716\n",
            "Train Epoch: 4 [49280/60000 (82%)]\tLoss: 0.219228\n",
            "Train Epoch: 4 [49920/60000 (83%)]\tLoss: 0.152733\n",
            "Train Epoch: 4 [50560/60000 (84%)]\tLoss: 0.154760\n",
            "Train Epoch: 4 [51200/60000 (85%)]\tLoss: 0.264978\n",
            "Train Epoch: 4 [51840/60000 (86%)]\tLoss: 0.211514\n",
            "Train Epoch: 4 [52480/60000 (87%)]\tLoss: 0.307616\n",
            "Train Epoch: 4 [53120/60000 (88%)]\tLoss: 0.069108\n",
            "Train Epoch: 4 [53760/60000 (90%)]\tLoss: 0.134752\n",
            "Train Epoch: 4 [54400/60000 (91%)]\tLoss: 0.131513\n",
            "Train Epoch: 4 [55040/60000 (92%)]\tLoss: 0.254255\n",
            "Train Epoch: 4 [55680/60000 (93%)]\tLoss: 0.052591\n",
            "Train Epoch: 4 [56320/60000 (94%)]\tLoss: 0.029676\n",
            "Train Epoch: 4 [56960/60000 (95%)]\tLoss: 0.238235\n",
            "Train Epoch: 4 [57600/60000 (96%)]\tLoss: 0.100159\n",
            "Train Epoch: 4 [58240/60000 (97%)]\tLoss: 0.131527\n",
            "Train Epoch: 4 [58880/60000 (98%)]\tLoss: 0.057108\n",
            "Train Epoch: 4 [59520/60000 (99%)]\tLoss: 0.125636\n"
          ],
          "name": "stdout"
        },
        {
          "output_type": "stream",
          "text": [
            "/usr/local/lib/python3.6/dist-packages/torch/nn/_reduction.py:46: UserWarning: size_average and reduce args will be deprecated, please use reduction='sum' instead.\n",
            "  warnings.warn(warning.format(ret))\n"
          ],
          "name": "stderr"
        },
        {
          "output_type": "stream",
          "text": [
            "\n",
            "Test set: Avg. loss: 0.0705, Accuracy: 9769/10000 (97%)\n",
            "\n",
            "Train Epoch: 5 [0/60000 (0%)]\tLoss: 0.171525\n",
            "Train Epoch: 5 [640/60000 (1%)]\tLoss: 0.269864\n",
            "Train Epoch: 5 [1280/60000 (2%)]\tLoss: 0.209771\n",
            "Train Epoch: 5 [1920/60000 (3%)]\tLoss: 0.106436\n",
            "Train Epoch: 5 [2560/60000 (4%)]\tLoss: 0.061246\n",
            "Train Epoch: 5 [3200/60000 (5%)]\tLoss: 0.222548\n",
            "Train Epoch: 5 [3840/60000 (6%)]\tLoss: 0.062972\n",
            "Train Epoch: 5 [4480/60000 (7%)]\tLoss: 0.061213\n",
            "Train Epoch: 5 [5120/60000 (9%)]\tLoss: 0.076934\n",
            "Train Epoch: 5 [5760/60000 (10%)]\tLoss: 0.232156\n",
            "Train Epoch: 5 [6400/60000 (11%)]\tLoss: 0.156943\n",
            "Train Epoch: 5 [7040/60000 (12%)]\tLoss: 0.179305\n",
            "Train Epoch: 5 [7680/60000 (13%)]\tLoss: 0.064692\n",
            "Train Epoch: 5 [8320/60000 (14%)]\tLoss: 0.154740\n",
            "Train Epoch: 5 [8960/60000 (15%)]\tLoss: 0.088458\n",
            "Train Epoch: 5 [9600/60000 (16%)]\tLoss: 0.138984\n",
            "Train Epoch: 5 [10240/60000 (17%)]\tLoss: 0.177910\n",
            "Train Epoch: 5 [10880/60000 (18%)]\tLoss: 0.187765\n",
            "Train Epoch: 5 [11520/60000 (19%)]\tLoss: 0.077251\n",
            "Train Epoch: 5 [12160/60000 (20%)]\tLoss: 0.075252\n",
            "Train Epoch: 5 [12800/60000 (21%)]\tLoss: 0.414479\n",
            "Train Epoch: 5 [13440/60000 (22%)]\tLoss: 0.330029\n",
            "Train Epoch: 5 [14080/60000 (23%)]\tLoss: 0.085664\n",
            "Train Epoch: 5 [14720/60000 (25%)]\tLoss: 0.052103\n",
            "Train Epoch: 5 [15360/60000 (26%)]\tLoss: 0.252091\n",
            "Train Epoch: 5 [16000/60000 (27%)]\tLoss: 0.198898\n",
            "Train Epoch: 5 [16640/60000 (28%)]\tLoss: 0.046064\n",
            "Train Epoch: 5 [17280/60000 (29%)]\tLoss: 0.218381\n",
            "Train Epoch: 5 [17920/60000 (30%)]\tLoss: 0.031881\n",
            "Train Epoch: 5 [18560/60000 (31%)]\tLoss: 0.048051\n",
            "Train Epoch: 5 [19200/60000 (32%)]\tLoss: 0.056243\n",
            "Train Epoch: 5 [19840/60000 (33%)]\tLoss: 0.087049\n",
            "Train Epoch: 5 [20480/60000 (34%)]\tLoss: 0.192514\n",
            "Train Epoch: 5 [21120/60000 (35%)]\tLoss: 0.030537\n",
            "Train Epoch: 5 [21760/60000 (36%)]\tLoss: 0.082556\n",
            "Train Epoch: 5 [22400/60000 (37%)]\tLoss: 0.042589\n",
            "Train Epoch: 5 [23040/60000 (38%)]\tLoss: 0.104610\n",
            "Train Epoch: 5 [23680/60000 (39%)]\tLoss: 0.147997\n",
            "Train Epoch: 5 [24320/60000 (41%)]\tLoss: 0.074506\n",
            "Train Epoch: 5 [24960/60000 (42%)]\tLoss: 0.132674\n",
            "Train Epoch: 5 [25600/60000 (43%)]\tLoss: 0.158932\n",
            "Train Epoch: 5 [26240/60000 (44%)]\tLoss: 0.080268\n",
            "Train Epoch: 5 [26880/60000 (45%)]\tLoss: 0.126050\n",
            "Train Epoch: 5 [27520/60000 (46%)]\tLoss: 0.054198\n",
            "Train Epoch: 5 [28160/60000 (47%)]\tLoss: 0.155385\n",
            "Train Epoch: 5 [28800/60000 (48%)]\tLoss: 0.083720\n",
            "Train Epoch: 5 [29440/60000 (49%)]\tLoss: 0.140176\n",
            "Train Epoch: 5 [30080/60000 (50%)]\tLoss: 0.181530\n",
            "Train Epoch: 5 [30720/60000 (51%)]\tLoss: 0.525026\n",
            "Train Epoch: 5 [31360/60000 (52%)]\tLoss: 0.172549\n",
            "Train Epoch: 5 [32000/60000 (53%)]\tLoss: 0.103589\n",
            "Train Epoch: 5 [32640/60000 (54%)]\tLoss: 0.113916\n",
            "Train Epoch: 5 [33280/60000 (55%)]\tLoss: 0.283848\n",
            "Train Epoch: 5 [33920/60000 (57%)]\tLoss: 0.102690\n",
            "Train Epoch: 5 [34560/60000 (58%)]\tLoss: 0.290238\n",
            "Train Epoch: 5 [35200/60000 (59%)]\tLoss: 0.043262\n",
            "Train Epoch: 5 [35840/60000 (60%)]\tLoss: 0.194669\n",
            "Train Epoch: 5 [36480/60000 (61%)]\tLoss: 0.117231\n",
            "Train Epoch: 5 [37120/60000 (62%)]\tLoss: 0.108161\n",
            "Train Epoch: 5 [37760/60000 (63%)]\tLoss: 0.158968\n",
            "Train Epoch: 5 [38400/60000 (64%)]\tLoss: 0.062781\n",
            "Train Epoch: 5 [39040/60000 (65%)]\tLoss: 0.162225\n",
            "Train Epoch: 5 [39680/60000 (66%)]\tLoss: 0.401074\n",
            "Train Epoch: 5 [40320/60000 (67%)]\tLoss: 0.189960\n",
            "Train Epoch: 5 [40960/60000 (68%)]\tLoss: 0.085895\n",
            "Train Epoch: 5 [41600/60000 (69%)]\tLoss: 0.285432\n",
            "Train Epoch: 5 [42240/60000 (70%)]\tLoss: 0.219360\n",
            "Train Epoch: 5 [42880/60000 (71%)]\tLoss: 0.206393\n",
            "Train Epoch: 5 [43520/60000 (72%)]\tLoss: 0.297081\n",
            "Train Epoch: 5 [44160/60000 (74%)]\tLoss: 0.062587\n",
            "Train Epoch: 5 [44800/60000 (75%)]\tLoss: 0.341578\n",
            "Train Epoch: 5 [45440/60000 (76%)]\tLoss: 0.230801\n",
            "Train Epoch: 5 [46080/60000 (77%)]\tLoss: 0.464185\n",
            "Train Epoch: 5 [46720/60000 (78%)]\tLoss: 0.140823\n",
            "Train Epoch: 5 [47360/60000 (79%)]\tLoss: 0.118218\n",
            "Train Epoch: 5 [48000/60000 (80%)]\tLoss: 0.170298\n",
            "Train Epoch: 5 [48640/60000 (81%)]\tLoss: 0.098807\n",
            "Train Epoch: 5 [49280/60000 (82%)]\tLoss: 0.077661\n",
            "Train Epoch: 5 [49920/60000 (83%)]\tLoss: 0.158561\n",
            "Train Epoch: 5 [50560/60000 (84%)]\tLoss: 0.148960\n",
            "Train Epoch: 5 [51200/60000 (85%)]\tLoss: 0.194350\n",
            "Train Epoch: 5 [51840/60000 (86%)]\tLoss: 0.147665\n",
            "Train Epoch: 5 [52480/60000 (87%)]\tLoss: 0.132209\n",
            "Train Epoch: 5 [53120/60000 (88%)]\tLoss: 0.109730\n",
            "Train Epoch: 5 [53760/60000 (90%)]\tLoss: 0.083928\n",
            "Train Epoch: 5 [54400/60000 (91%)]\tLoss: 0.032291\n",
            "Train Epoch: 5 [55040/60000 (92%)]\tLoss: 0.065211\n",
            "Train Epoch: 5 [55680/60000 (93%)]\tLoss: 0.031288\n",
            "Train Epoch: 5 [56320/60000 (94%)]\tLoss: 0.079373\n",
            "Train Epoch: 5 [56960/60000 (95%)]\tLoss: 0.059603\n",
            "Train Epoch: 5 [57600/60000 (96%)]\tLoss: 0.161893\n",
            "Train Epoch: 5 [58240/60000 (97%)]\tLoss: 0.309712\n",
            "Train Epoch: 5 [58880/60000 (98%)]\tLoss: 0.092851\n",
            "Train Epoch: 5 [59520/60000 (99%)]\tLoss: 0.150824\n",
            "\n",
            "Test set: Avg. loss: 0.0707, Accuracy: 9768/10000 (97%)\n",
            "\n",
            "Train Epoch: 6 [0/60000 (0%)]\tLoss: 0.093261\n",
            "Train Epoch: 6 [640/60000 (1%)]\tLoss: 0.186558\n",
            "Train Epoch: 6 [1280/60000 (2%)]\tLoss: 0.062466\n",
            "Train Epoch: 6 [1920/60000 (3%)]\tLoss: 0.112864\n",
            "Train Epoch: 6 [2560/60000 (4%)]\tLoss: 0.274152\n",
            "Train Epoch: 6 [3200/60000 (5%)]\tLoss: 0.064658\n",
            "Train Epoch: 6 [3840/60000 (6%)]\tLoss: 0.138331\n",
            "Train Epoch: 6 [4480/60000 (7%)]\tLoss: 0.170678\n",
            "Train Epoch: 6 [5120/60000 (9%)]\tLoss: 0.161249\n",
            "Train Epoch: 6 [5760/60000 (10%)]\tLoss: 0.149391\n",
            "Train Epoch: 6 [6400/60000 (11%)]\tLoss: 0.063313\n",
            "Train Epoch: 6 [7040/60000 (12%)]\tLoss: 0.063312\n",
            "Train Epoch: 6 [7680/60000 (13%)]\tLoss: 0.037256\n",
            "Train Epoch: 6 [8320/60000 (14%)]\tLoss: 0.069480\n",
            "Train Epoch: 6 [8960/60000 (15%)]\tLoss: 0.132762\n",
            "Train Epoch: 6 [9600/60000 (16%)]\tLoss: 0.040833\n",
            "Train Epoch: 6 [10240/60000 (17%)]\tLoss: 0.101716\n",
            "Train Epoch: 6 [10880/60000 (18%)]\tLoss: 0.065010\n",
            "Train Epoch: 6 [11520/60000 (19%)]\tLoss: 0.083534\n",
            "Train Epoch: 6 [12160/60000 (20%)]\tLoss: 0.156322\n",
            "Train Epoch: 6 [12800/60000 (21%)]\tLoss: 0.085364\n",
            "Train Epoch: 6 [13440/60000 (22%)]\tLoss: 0.022753\n",
            "Train Epoch: 6 [14080/60000 (23%)]\tLoss: 0.139740\n",
            "Train Epoch: 6 [14720/60000 (25%)]\tLoss: 0.017160\n",
            "Train Epoch: 6 [15360/60000 (26%)]\tLoss: 0.146485\n",
            "Train Epoch: 6 [16000/60000 (27%)]\tLoss: 0.198561\n",
            "Train Epoch: 6 [16640/60000 (28%)]\tLoss: 0.179827\n",
            "Train Epoch: 6 [17280/60000 (29%)]\tLoss: 0.120529\n",
            "Train Epoch: 6 [17920/60000 (30%)]\tLoss: 0.080346\n",
            "Train Epoch: 6 [18560/60000 (31%)]\tLoss: 0.048903\n",
            "Train Epoch: 6 [19200/60000 (32%)]\tLoss: 0.168426\n",
            "Train Epoch: 6 [19840/60000 (33%)]\tLoss: 0.435897\n",
            "Train Epoch: 6 [20480/60000 (34%)]\tLoss: 0.139485\n",
            "Train Epoch: 6 [21120/60000 (35%)]\tLoss: 0.205394\n",
            "Train Epoch: 6 [21760/60000 (36%)]\tLoss: 0.039204\n",
            "Train Epoch: 6 [22400/60000 (37%)]\tLoss: 0.055457\n",
            "Train Epoch: 6 [23040/60000 (38%)]\tLoss: 0.085427\n",
            "Train Epoch: 6 [23680/60000 (39%)]\tLoss: 0.399605\n",
            "Train Epoch: 6 [24320/60000 (41%)]\tLoss: 0.094205\n",
            "Train Epoch: 6 [24960/60000 (42%)]\tLoss: 0.068250\n",
            "Train Epoch: 6 [25600/60000 (43%)]\tLoss: 0.137846\n",
            "Train Epoch: 6 [26240/60000 (44%)]\tLoss: 0.118844\n",
            "Train Epoch: 6 [26880/60000 (45%)]\tLoss: 0.036675\n",
            "Train Epoch: 6 [27520/60000 (46%)]\tLoss: 0.157425\n",
            "Train Epoch: 6 [28160/60000 (47%)]\tLoss: 0.091454\n",
            "Train Epoch: 6 [28800/60000 (48%)]\tLoss: 0.153712\n",
            "Train Epoch: 6 [29440/60000 (49%)]\tLoss: 0.109383\n",
            "Train Epoch: 6 [30080/60000 (50%)]\tLoss: 0.089477\n",
            "Train Epoch: 6 [30720/60000 (51%)]\tLoss: 0.080253\n",
            "Train Epoch: 6 [31360/60000 (52%)]\tLoss: 0.083994\n",
            "Train Epoch: 6 [32000/60000 (53%)]\tLoss: 0.266953\n",
            "Train Epoch: 6 [32640/60000 (54%)]\tLoss: 0.154782\n",
            "Train Epoch: 6 [33280/60000 (55%)]\tLoss: 0.108596\n",
            "Train Epoch: 6 [33920/60000 (57%)]\tLoss: 0.154642\n",
            "Train Epoch: 6 [34560/60000 (58%)]\tLoss: 0.043502\n",
            "Train Epoch: 6 [35200/60000 (59%)]\tLoss: 0.139723\n",
            "Train Epoch: 6 [35840/60000 (60%)]\tLoss: 0.193745\n",
            "Train Epoch: 6 [36480/60000 (61%)]\tLoss: 0.177008\n",
            "Train Epoch: 6 [37120/60000 (62%)]\tLoss: 0.167671\n",
            "Train Epoch: 6 [37760/60000 (63%)]\tLoss: 0.076716\n",
            "Train Epoch: 6 [38400/60000 (64%)]\tLoss: 0.179757\n",
            "Train Epoch: 6 [39040/60000 (65%)]\tLoss: 0.156286\n",
            "Train Epoch: 6 [39680/60000 (66%)]\tLoss: 0.061126\n",
            "Train Epoch: 6 [40320/60000 (67%)]\tLoss: 0.211182\n",
            "Train Epoch: 6 [40960/60000 (68%)]\tLoss: 0.209355\n",
            "Train Epoch: 6 [41600/60000 (69%)]\tLoss: 0.272565\n",
            "Train Epoch: 6 [42240/60000 (70%)]\tLoss: 0.177404\n",
            "Train Epoch: 6 [42880/60000 (71%)]\tLoss: 0.103557\n",
            "Train Epoch: 6 [43520/60000 (72%)]\tLoss: 0.237678\n",
            "Train Epoch: 6 [44160/60000 (74%)]\tLoss: 0.260702\n",
            "Train Epoch: 6 [44800/60000 (75%)]\tLoss: 0.140107\n",
            "Train Epoch: 6 [45440/60000 (76%)]\tLoss: 0.155097\n",
            "Train Epoch: 6 [46080/60000 (77%)]\tLoss: 0.063192\n",
            "Train Epoch: 6 [46720/60000 (78%)]\tLoss: 0.210506\n",
            "Train Epoch: 6 [47360/60000 (79%)]\tLoss: 0.141942\n",
            "Train Epoch: 6 [48000/60000 (80%)]\tLoss: 0.073857\n",
            "Train Epoch: 6 [48640/60000 (81%)]\tLoss: 0.106254\n",
            "Train Epoch: 6 [49280/60000 (82%)]\tLoss: 0.045196\n",
            "Train Epoch: 6 [49920/60000 (83%)]\tLoss: 0.077747\n",
            "Train Epoch: 6 [50560/60000 (84%)]\tLoss: 0.092590\n",
            "Train Epoch: 6 [51200/60000 (85%)]\tLoss: 0.081546\n",
            "Train Epoch: 6 [51840/60000 (86%)]\tLoss: 0.068091\n",
            "Train Epoch: 6 [52480/60000 (87%)]\tLoss: 0.154323\n",
            "Train Epoch: 6 [53120/60000 (88%)]\tLoss: 0.168452\n",
            "Train Epoch: 6 [53760/60000 (90%)]\tLoss: 0.206984\n",
            "Train Epoch: 6 [54400/60000 (91%)]\tLoss: 0.098360\n",
            "Train Epoch: 6 [55040/60000 (92%)]\tLoss: 0.057157\n",
            "Train Epoch: 6 [55680/60000 (93%)]\tLoss: 0.133765\n",
            "Train Epoch: 6 [56320/60000 (94%)]\tLoss: 0.150331\n",
            "Train Epoch: 6 [56960/60000 (95%)]\tLoss: 0.105042\n",
            "Train Epoch: 6 [57600/60000 (96%)]\tLoss: 0.255134\n",
            "Train Epoch: 6 [58240/60000 (97%)]\tLoss: 0.043488\n",
            "Train Epoch: 6 [58880/60000 (98%)]\tLoss: 0.103235\n",
            "Train Epoch: 6 [59520/60000 (99%)]\tLoss: 0.053387\n",
            "\n",
            "Test set: Avg. loss: 0.0571, Accuracy: 9815/10000 (98%)\n",
            "\n",
            "Train Epoch: 7 [0/60000 (0%)]\tLoss: 0.137358\n",
            "Train Epoch: 7 [640/60000 (1%)]\tLoss: 0.176167\n",
            "Train Epoch: 7 [1280/60000 (2%)]\tLoss: 0.074499\n",
            "Train Epoch: 7 [1920/60000 (3%)]\tLoss: 0.149191\n",
            "Train Epoch: 7 [2560/60000 (4%)]\tLoss: 0.052809\n",
            "Train Epoch: 7 [3200/60000 (5%)]\tLoss: 0.048806\n",
            "Train Epoch: 7 [3840/60000 (6%)]\tLoss: 0.051540\n",
            "Train Epoch: 7 [4480/60000 (7%)]\tLoss: 0.144556\n",
            "Train Epoch: 7 [5120/60000 (9%)]\tLoss: 0.081964\n",
            "Train Epoch: 7 [5760/60000 (10%)]\tLoss: 0.121299\n",
            "Train Epoch: 7 [6400/60000 (11%)]\tLoss: 0.042127\n",
            "Train Epoch: 7 [7040/60000 (12%)]\tLoss: 0.164905\n",
            "Train Epoch: 7 [7680/60000 (13%)]\tLoss: 0.084722\n",
            "Train Epoch: 7 [8320/60000 (14%)]\tLoss: 0.050861\n",
            "Train Epoch: 7 [8960/60000 (15%)]\tLoss: 0.248101\n",
            "Train Epoch: 7 [9600/60000 (16%)]\tLoss: 0.125775\n",
            "Train Epoch: 7 [10240/60000 (17%)]\tLoss: 0.054948\n",
            "Train Epoch: 7 [10880/60000 (18%)]\tLoss: 0.032126\n",
            "Train Epoch: 7 [11520/60000 (19%)]\tLoss: 0.123776\n",
            "Train Epoch: 7 [12160/60000 (20%)]\tLoss: 0.132103\n",
            "Train Epoch: 7 [12800/60000 (21%)]\tLoss: 0.158411\n",
            "Train Epoch: 7 [13440/60000 (22%)]\tLoss: 0.219532\n",
            "Train Epoch: 7 [14080/60000 (23%)]\tLoss: 0.227143\n",
            "Train Epoch: 7 [14720/60000 (25%)]\tLoss: 0.068483\n",
            "Train Epoch: 7 [15360/60000 (26%)]\tLoss: 0.081629\n",
            "Train Epoch: 7 [16000/60000 (27%)]\tLoss: 0.031144\n",
            "Train Epoch: 7 [16640/60000 (28%)]\tLoss: 0.082280\n",
            "Train Epoch: 7 [17280/60000 (29%)]\tLoss: 0.061218\n",
            "Train Epoch: 7 [17920/60000 (30%)]\tLoss: 0.152906\n",
            "Train Epoch: 7 [18560/60000 (31%)]\tLoss: 0.124035\n",
            "Train Epoch: 7 [19200/60000 (32%)]\tLoss: 0.127554\n",
            "Train Epoch: 7 [19840/60000 (33%)]\tLoss: 0.050818\n",
            "Train Epoch: 7 [20480/60000 (34%)]\tLoss: 0.028282\n",
            "Train Epoch: 7 [21120/60000 (35%)]\tLoss: 0.186264\n",
            "Train Epoch: 7 [21760/60000 (36%)]\tLoss: 0.049936\n",
            "Train Epoch: 7 [22400/60000 (37%)]\tLoss: 0.109528\n",
            "Train Epoch: 7 [23040/60000 (38%)]\tLoss: 0.204927\n",
            "Train Epoch: 7 [23680/60000 (39%)]\tLoss: 0.109116\n",
            "Train Epoch: 7 [24320/60000 (41%)]\tLoss: 0.127973\n",
            "Train Epoch: 7 [24960/60000 (42%)]\tLoss: 0.077249\n",
            "Train Epoch: 7 [25600/60000 (43%)]\tLoss: 0.078543\n",
            "Train Epoch: 7 [26240/60000 (44%)]\tLoss: 0.152878\n",
            "Train Epoch: 7 [26880/60000 (45%)]\tLoss: 0.092128\n",
            "Train Epoch: 7 [27520/60000 (46%)]\tLoss: 0.133157\n",
            "Train Epoch: 7 [28160/60000 (47%)]\tLoss: 0.263757\n",
            "Train Epoch: 7 [28800/60000 (48%)]\tLoss: 0.035981\n",
            "Train Epoch: 7 [29440/60000 (49%)]\tLoss: 0.160255\n",
            "Train Epoch: 7 [30080/60000 (50%)]\tLoss: 0.185118\n",
            "Train Epoch: 7 [30720/60000 (51%)]\tLoss: 0.079652\n",
            "Train Epoch: 7 [31360/60000 (52%)]\tLoss: 0.103707\n",
            "Train Epoch: 7 [32000/60000 (53%)]\tLoss: 0.226562\n",
            "Train Epoch: 7 [32640/60000 (54%)]\tLoss: 0.261032\n",
            "Train Epoch: 7 [33280/60000 (55%)]\tLoss: 0.073989\n",
            "Train Epoch: 7 [33920/60000 (57%)]\tLoss: 0.093951\n",
            "Train Epoch: 7 [34560/60000 (58%)]\tLoss: 0.283556\n",
            "Train Epoch: 7 [35200/60000 (59%)]\tLoss: 0.058171\n",
            "Train Epoch: 7 [35840/60000 (60%)]\tLoss: 0.063932\n",
            "Train Epoch: 7 [36480/60000 (61%)]\tLoss: 0.079244\n",
            "Train Epoch: 7 [37120/60000 (62%)]\tLoss: 0.064194\n",
            "Train Epoch: 7 [37760/60000 (63%)]\tLoss: 0.115124\n",
            "Train Epoch: 7 [38400/60000 (64%)]\tLoss: 0.233889\n",
            "Train Epoch: 7 [39040/60000 (65%)]\tLoss: 0.148783\n",
            "Train Epoch: 7 [39680/60000 (66%)]\tLoss: 0.019539\n",
            "Train Epoch: 7 [40320/60000 (67%)]\tLoss: 0.086419\n",
            "Train Epoch: 7 [40960/60000 (68%)]\tLoss: 0.086704\n",
            "Train Epoch: 7 [41600/60000 (69%)]\tLoss: 0.233332\n",
            "Train Epoch: 7 [42240/60000 (70%)]\tLoss: 0.074936\n",
            "Train Epoch: 7 [42880/60000 (71%)]\tLoss: 0.224781\n",
            "Train Epoch: 7 [43520/60000 (72%)]\tLoss: 0.058613\n",
            "Train Epoch: 7 [44160/60000 (74%)]\tLoss: 0.051563\n",
            "Train Epoch: 7 [44800/60000 (75%)]\tLoss: 0.196380\n",
            "Train Epoch: 7 [45440/60000 (76%)]\tLoss: 0.055587\n",
            "Train Epoch: 7 [46080/60000 (77%)]\tLoss: 0.199969\n",
            "Train Epoch: 7 [46720/60000 (78%)]\tLoss: 0.027978\n",
            "Train Epoch: 7 [47360/60000 (79%)]\tLoss: 0.081681\n",
            "Train Epoch: 7 [48000/60000 (80%)]\tLoss: 0.023134\n",
            "Train Epoch: 7 [48640/60000 (81%)]\tLoss: 0.170427\n",
            "Train Epoch: 7 [49280/60000 (82%)]\tLoss: 0.084244\n",
            "Train Epoch: 7 [49920/60000 (83%)]\tLoss: 0.155367\n",
            "Train Epoch: 7 [50560/60000 (84%)]\tLoss: 0.143724\n",
            "Train Epoch: 7 [51200/60000 (85%)]\tLoss: 0.019667\n",
            "Train Epoch: 7 [51840/60000 (86%)]\tLoss: 0.105803\n",
            "Train Epoch: 7 [52480/60000 (87%)]\tLoss: 0.167369\n",
            "Train Epoch: 7 [53120/60000 (88%)]\tLoss: 0.313868\n",
            "Train Epoch: 7 [53760/60000 (90%)]\tLoss: 0.114343\n",
            "Train Epoch: 7 [54400/60000 (91%)]\tLoss: 0.427543\n",
            "Train Epoch: 7 [55040/60000 (92%)]\tLoss: 0.076029\n",
            "Train Epoch: 7 [55680/60000 (93%)]\tLoss: 0.049004\n",
            "Train Epoch: 7 [56320/60000 (94%)]\tLoss: 0.131941\n",
            "Train Epoch: 7 [56960/60000 (95%)]\tLoss: 0.099184\n",
            "Train Epoch: 7 [57600/60000 (96%)]\tLoss: 0.142243\n",
            "Train Epoch: 7 [58240/60000 (97%)]\tLoss: 0.168768\n",
            "Train Epoch: 7 [58880/60000 (98%)]\tLoss: 0.026109\n",
            "Train Epoch: 7 [59520/60000 (99%)]\tLoss: 0.056765\n",
            "\n",
            "Test set: Avg. loss: 0.0501, Accuracy: 9831/10000 (98%)\n",
            "\n",
            "Train Epoch: 8 [0/60000 (0%)]\tLoss: 0.032125\n",
            "Train Epoch: 8 [640/60000 (1%)]\tLoss: 0.127171\n",
            "Train Epoch: 8 [1280/60000 (2%)]\tLoss: 0.111619\n",
            "Train Epoch: 8 [1920/60000 (3%)]\tLoss: 0.158275\n",
            "Train Epoch: 8 [2560/60000 (4%)]\tLoss: 0.050207\n",
            "Train Epoch: 8 [3200/60000 (5%)]\tLoss: 0.142264\n",
            "Train Epoch: 8 [3840/60000 (6%)]\tLoss: 0.049899\n",
            "Train Epoch: 8 [4480/60000 (7%)]\tLoss: 0.047863\n",
            "Train Epoch: 8 [5120/60000 (9%)]\tLoss: 0.043496\n",
            "Train Epoch: 8 [5760/60000 (10%)]\tLoss: 0.129633\n",
            "Train Epoch: 8 [6400/60000 (11%)]\tLoss: 0.042433\n",
            "Train Epoch: 8 [7040/60000 (12%)]\tLoss: 0.137848\n",
            "Train Epoch: 8 [7680/60000 (13%)]\tLoss: 0.037519\n",
            "Train Epoch: 8 [8320/60000 (14%)]\tLoss: 0.036943\n",
            "Train Epoch: 8 [8960/60000 (15%)]\tLoss: 0.072106\n",
            "Train Epoch: 8 [9600/60000 (16%)]\tLoss: 0.054335\n",
            "Train Epoch: 8 [10240/60000 (17%)]\tLoss: 0.057306\n",
            "Train Epoch: 8 [10880/60000 (18%)]\tLoss: 0.030641\n",
            "Train Epoch: 8 [11520/60000 (19%)]\tLoss: 0.051565\n",
            "Train Epoch: 8 [12160/60000 (20%)]\tLoss: 0.074435\n",
            "Train Epoch: 8 [12800/60000 (21%)]\tLoss: 0.060341\n",
            "Train Epoch: 8 [13440/60000 (22%)]\tLoss: 0.085122\n",
            "Train Epoch: 8 [14080/60000 (23%)]\tLoss: 0.088635\n",
            "Train Epoch: 8 [14720/60000 (25%)]\tLoss: 0.046602\n",
            "Train Epoch: 8 [15360/60000 (26%)]\tLoss: 0.192940\n",
            "Train Epoch: 8 [16000/60000 (27%)]\tLoss: 0.053722\n",
            "Train Epoch: 8 [16640/60000 (28%)]\tLoss: 0.125773\n",
            "Train Epoch: 8 [17280/60000 (29%)]\tLoss: 0.050615\n",
            "Train Epoch: 8 [17920/60000 (30%)]\tLoss: 0.098001\n",
            "Train Epoch: 8 [18560/60000 (31%)]\tLoss: 0.016218\n",
            "Train Epoch: 8 [19200/60000 (32%)]\tLoss: 0.104533\n",
            "Train Epoch: 8 [19840/60000 (33%)]\tLoss: 0.035529\n",
            "Train Epoch: 8 [20480/60000 (34%)]\tLoss: 0.163303\n",
            "Train Epoch: 8 [21120/60000 (35%)]\tLoss: 0.206457\n",
            "Train Epoch: 8 [21760/60000 (36%)]\tLoss: 0.026398\n",
            "Train Epoch: 8 [22400/60000 (37%)]\tLoss: 0.150511\n",
            "Train Epoch: 8 [23040/60000 (38%)]\tLoss: 0.119416\n",
            "Train Epoch: 8 [23680/60000 (39%)]\tLoss: 0.150588\n",
            "Train Epoch: 8 [24320/60000 (41%)]\tLoss: 0.080667\n",
            "Train Epoch: 8 [24960/60000 (42%)]\tLoss: 0.042697\n",
            "Train Epoch: 8 [25600/60000 (43%)]\tLoss: 0.095664\n",
            "Train Epoch: 8 [26240/60000 (44%)]\tLoss: 0.049695\n",
            "Train Epoch: 8 [26880/60000 (45%)]\tLoss: 0.043720\n",
            "Train Epoch: 8 [27520/60000 (46%)]\tLoss: 0.344686\n",
            "Train Epoch: 8 [28160/60000 (47%)]\tLoss: 0.033269\n",
            "Train Epoch: 8 [28800/60000 (48%)]\tLoss: 0.108305\n",
            "Train Epoch: 8 [29440/60000 (49%)]\tLoss: 0.068428\n",
            "Train Epoch: 8 [30080/60000 (50%)]\tLoss: 0.084076\n",
            "Train Epoch: 8 [30720/60000 (51%)]\tLoss: 0.290987\n",
            "Train Epoch: 8 [31360/60000 (52%)]\tLoss: 0.053068\n",
            "Train Epoch: 8 [32000/60000 (53%)]\tLoss: 0.133358\n",
            "Train Epoch: 8 [32640/60000 (54%)]\tLoss: 0.202196\n",
            "Train Epoch: 8 [33280/60000 (55%)]\tLoss: 0.018069\n",
            "Train Epoch: 8 [33920/60000 (57%)]\tLoss: 0.162799\n",
            "Train Epoch: 8 [34560/60000 (58%)]\tLoss: 0.035948\n",
            "Train Epoch: 8 [35200/60000 (59%)]\tLoss: 0.043765\n",
            "Train Epoch: 8 [35840/60000 (60%)]\tLoss: 0.391620\n",
            "Train Epoch: 8 [36480/60000 (61%)]\tLoss: 0.142505\n",
            "Train Epoch: 8 [37120/60000 (62%)]\tLoss: 0.219893\n",
            "Train Epoch: 8 [37760/60000 (63%)]\tLoss: 0.116042\n",
            "Train Epoch: 8 [38400/60000 (64%)]\tLoss: 0.264550\n",
            "Train Epoch: 8 [39040/60000 (65%)]\tLoss: 0.126869\n",
            "Train Epoch: 8 [39680/60000 (66%)]\tLoss: 0.189590\n",
            "Train Epoch: 8 [40320/60000 (67%)]\tLoss: 0.112268\n",
            "Train Epoch: 8 [40960/60000 (68%)]\tLoss: 0.136305\n",
            "Train Epoch: 8 [41600/60000 (69%)]\tLoss: 0.079158\n",
            "Train Epoch: 8 [42240/60000 (70%)]\tLoss: 0.061946\n",
            "Train Epoch: 8 [42880/60000 (71%)]\tLoss: 0.113861\n",
            "Train Epoch: 8 [43520/60000 (72%)]\tLoss: 0.137561\n",
            "Train Epoch: 8 [44160/60000 (74%)]\tLoss: 0.109451\n",
            "Train Epoch: 8 [44800/60000 (75%)]\tLoss: 0.097696\n",
            "Train Epoch: 8 [45440/60000 (76%)]\tLoss: 0.091932\n",
            "Train Epoch: 8 [46080/60000 (77%)]\tLoss: 0.012617\n",
            "Train Epoch: 8 [46720/60000 (78%)]\tLoss: 0.095216\n",
            "Train Epoch: 8 [47360/60000 (79%)]\tLoss: 0.025925\n",
            "Train Epoch: 8 [48000/60000 (80%)]\tLoss: 0.235407\n",
            "Train Epoch: 8 [48640/60000 (81%)]\tLoss: 0.114765\n",
            "Train Epoch: 8 [49280/60000 (82%)]\tLoss: 0.132060\n",
            "Train Epoch: 8 [49920/60000 (83%)]\tLoss: 0.035819\n",
            "Train Epoch: 8 [50560/60000 (84%)]\tLoss: 0.050789\n",
            "Train Epoch: 8 [51200/60000 (85%)]\tLoss: 0.066398\n",
            "Train Epoch: 8 [51840/60000 (86%)]\tLoss: 0.035730\n",
            "Train Epoch: 8 [52480/60000 (87%)]\tLoss: 0.102951\n",
            "Train Epoch: 8 [53120/60000 (88%)]\tLoss: 0.029286\n",
            "Train Epoch: 8 [53760/60000 (90%)]\tLoss: 0.060821\n",
            "Train Epoch: 8 [54400/60000 (91%)]\tLoss: 0.073914\n",
            "Train Epoch: 8 [55040/60000 (92%)]\tLoss: 0.067289\n",
            "Train Epoch: 8 [55680/60000 (93%)]\tLoss: 0.167865\n",
            "Train Epoch: 8 [56320/60000 (94%)]\tLoss: 0.249100\n",
            "Train Epoch: 8 [56960/60000 (95%)]\tLoss: 0.157876\n",
            "Train Epoch: 8 [57600/60000 (96%)]\tLoss: 0.183231\n",
            "Train Epoch: 8 [58240/60000 (97%)]\tLoss: 0.090169\n",
            "Train Epoch: 8 [58880/60000 (98%)]\tLoss: 0.034861\n",
            "Train Epoch: 8 [59520/60000 (99%)]\tLoss: 0.163791\n",
            "\n",
            "Test set: Avg. loss: 0.0544, Accuracy: 9826/10000 (98%)\n",
            "\n"
          ],
          "name": "stdout"
        }
      ]
    },
    {
      "cell_type": "code",
      "metadata": {
        "id": "Bv0KIMsZ1nZq",
        "colab_type": "code",
        "colab": {
          "base_uri": "https://localhost:8080/",
          "height": 300
        },
        "outputId": "2b6b0637-ef87-43c5-d873-42d3bb19202b"
      },
      "source": [
        "fig = plt.figure()\n",
        "plt.plot(train_counter, train_losses, color='blue')\n",
        "plt.scatter(test_counter, test_losses, color='red')\n",
        "plt.legend(['Train Loss', 'Test Loss'], loc='upper right')\n",
        "plt.xlabel('number of training examples seen')\n",
        "plt.ylabel('negative log likelihood loss')"
      ],
      "execution_count": 113,
      "outputs": [
        {
          "output_type": "execute_result",
          "data": {
            "text/plain": [
              "Text(0, 0.5, 'negative log likelihood loss')"
            ]
          },
          "metadata": {
            "tags": []
          },
          "execution_count": 113
        },
        {
          "output_type": "display_data",
          "data": {
            "image/png": "[encoded data removed]",
            "text/plain": [
              "<Figure size 432x288 with 1 Axes>"
            ]
          },
          "metadata": {
            "tags": []
          }
        }
      ]
    }
  ]
}
